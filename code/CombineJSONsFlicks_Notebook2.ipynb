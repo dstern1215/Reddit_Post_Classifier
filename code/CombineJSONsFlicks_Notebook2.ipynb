{
 "cells": [
  {
   "cell_type": "code",
   "execution_count": 1,
   "metadata": {},
   "outputs": [],
   "source": [
    "import os, json\n",
    "import pandas as pd\n",
    "import glob\n",
    "import numpy as np"
   ]
  },
  {
   "cell_type": "markdown",
   "metadata": {},
   "source": [
    "When saving the json files to disc, I added specific strings to the file names, in order to aid in the merging process. Each filename has either \"submission\" or \"comment\" in the name (depending on the type of post), and either \"Flicks\" or \"TrueFilm\", depending on the subreddit name."
   ]
  },
  {
   "cell_type": "code",
   "execution_count": 2,
   "metadata": {},
   "outputs": [],
   "source": [
    "path = \"../jsons/\"\n",
    "flicks_jsons = glob.glob(path + \"/*Flicks.json\")\n",
    "flicks_submissions =  [each for each in flicks_jsons if \"submission\" in each]\n",
    "flicks_comments =  [each for each in flicks_jsons if \"comment\" in each]"
   ]
  },
  {
   "cell_type": "code",
   "execution_count": 3,
   "metadata": {},
   "outputs": [],
   "source": [
    "submission_list = []\n",
    "comment_list = []"
   ]
  },
  {
   "cell_type": "code",
   "execution_count": 4,
   "metadata": {},
   "outputs": [],
   "source": [
    "for each in flicks_submissions:\n",
    "    with open(each, 'r') as file:\n",
    "        posts = json.load(file) \n",
    "    \n",
    "    #for each post in the json file, collect the pertinent information from the post and append to a list\n",
    "    \n",
    "    for each in posts['data']:\n",
    "        submission_keys = ['author', 'created_utc', 'id', 'link_id', 'selftext', 'num_comments', 'score','title','permalink']\n",
    "        post = {k:v for k,v in each.items() if k in submission_keys}\n",
    "        submission_list.append(post)"
   ]
  },
  {
   "cell_type": "code",
   "execution_count": 5,
   "metadata": {},
   "outputs": [],
   "source": [
    "for each in flicks_comments:\n",
    "    with open(each, 'r') as file:\n",
    "        posts = json.load(file) \n",
    "    \n",
    "    #for each post in the json file, collect the pertinent information from the post and append to a list\n",
    "    \n",
    "    for each in posts['data']:\n",
    "        comment_keys = ['author','body','created_utc','link_id','parent_id','score','permalink']\n",
    "        post = {k:v for k,v in each.items() if k in comment_keys}\n",
    "        comment_list.append(post)"
   ]
  },
  {
   "cell_type": "code",
   "execution_count": 6,
   "metadata": {},
   "outputs": [],
   "source": [
    "subs_df = pd.DataFrame(submission_list)\n",
    "comm_df = pd.DataFrame(comment_list)"
   ]
  },
  {
   "cell_type": "code",
   "execution_count": 7,
   "metadata": {},
   "outputs": [],
   "source": [
    "subs_df['date'] = pd.to_datetime(subs_df['created_utc'], unit='s')\n",
    "comm_df['date'] = pd.to_datetime(comm_df['created_utc'], unit='s')\n",
    "\n",
    "subs_df['type'] = 'submission'\n",
    "comm_df['type'] = 'comment'\n",
    "subs_df['selftext'].fillna('No_Post',inplace=True)"
   ]
  },
  {
   "cell_type": "code",
   "execution_count": 8,
   "metadata": {},
   "outputs": [],
   "source": [
    "both = subs_df.merge(comm_df,how='outer')"
   ]
  },
  {
   "cell_type": "code",
   "execution_count": 12,
   "metadata": {},
   "outputs": [],
   "source": [
    "both.to_csv('../jsons/flicks.csv',index=False)"
   ]
  },
  {
   "cell_type": "code",
   "execution_count": 11,
   "metadata": {},
   "outputs": [
    {
     "data": {
      "text/plain": [
       "(23834, 13)"
      ]
     },
     "execution_count": 11,
     "metadata": {},
     "output_type": "execute_result"
    }
   ],
   "source": [
    "both.shape"
   ]
  }
 ],
 "metadata": {
  "kernelspec": {
   "display_name": "Python 3",
   "language": "python",
   "name": "python3"
  },
  "language_info": {
   "codemirror_mode": {
    "name": "ipython",
    "version": 3
   },
   "file_extension": ".py",
   "mimetype": "text/x-python",
   "name": "python",
   "nbconvert_exporter": "python",
   "pygments_lexer": "ipython3",
   "version": "3.7.0"
  }
 },
 "nbformat": 4,
 "nbformat_minor": 2
}
