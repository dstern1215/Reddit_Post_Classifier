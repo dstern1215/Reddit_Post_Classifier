{
 "cells": [
  {
   "cell_type": "code",
   "execution_count": 1,
   "metadata": {},
   "outputs": [],
   "source": [
    "import pandas as pd"
   ]
  },
  {
   "cell_type": "code",
   "execution_count": 2,
   "metadata": {},
   "outputs": [],
   "source": [
    "import matplotlib.pyplot as plt"
   ]
  },
  {
   "cell_type": "markdown",
   "metadata": {},
   "source": [
    "# Comparing Performance of Different Models Used"
   ]
  },
  {
   "cell_type": "markdown",
   "metadata": {},
   "source": [
    "### Naive Bayes Performance\n",
    "\n",
    "![Naive Bayes Performance](../images/nb.png)\n",
    "\n",
    "### Random Forest Performance\n",
    "\n",
    "![Random Forest Performance](../images/rf.png)\n",
    "\n",
    "It's interesting to note that the Naive Bayes (NB) and Random Forest (RF) scores look pretty similar to each other. For precision (the metric that we're looking to optimize), both NB and RF stay at the naive baseline (the total number of positively labeled samples) until they reach about .5 confidence, at which the precision score begins to rise in a somewhat logarithmic manner. The accuracy scores for each follow a similar pattern, except with the score diverging from the naive baseline at around .5 confidence level.\n",
    "\n",
    "### Logistic Regression Performance\n",
    "\n",
    "![Logistic Regression Performance](../images/lr.png)\n",
    "\n",
    "For Logistic Regression (LR), the precision score appears to rise in a more linear fashion as the confidence threshold increases. Although the precision and accuracy scores stay at the naive baseline until about .25, they begin to diverge sooner than in the NB or RF models, suggesting that the model isn't just exploiting class imbalance. Accuracy also decreases in a more gradual, sigmoid-like fashion in the LR, compared to the harsher drop off with the NB and RF models. \n",
    "\n",
    "All of these charts show that there's a clear trade off between precision and accuracy scores, for this experiment."
   ]
  },
  {
   "cell_type": "markdown",
   "metadata": {},
   "source": [
    "### Let's explore some of the specific model scores in more detail."
   ]
  },
  {
   "cell_type": "code",
   "execution_count": 3,
   "metadata": {},
   "outputs": [],
   "source": [
    "nb_scores = pd.read_csv('../jsons/NB_scores.csv')\n",
    "rf_scores = pd.read_csv('../jsons/RF_scores.csv')\n",
    "lr_scores = pd.read_csv('../jsons/LR_scores.csv')"
   ]
  },
  {
   "cell_type": "code",
   "execution_count": 4,
   "metadata": {},
   "outputs": [],
   "source": [
    "nb_scores.sort_values('thresholds',ascending=True,inplace=True)\n",
    "rf_scores.sort_values('thresholds',ascending=True,inplace=True)\n",
    "lr_scores.sort_values('thresholds',ascending=True,inplace=True)"
   ]
  },
  {
   "cell_type": "code",
   "execution_count": 5,
   "metadata": {},
   "outputs": [],
   "source": [
    "all_scores = {'thresholds': nb_scores['thresholds'], \n",
    "        'nb_precision': nb_scores['precision_scores'],\n",
    "              'rf_precision': rf_scores['precision_scores'],\n",
    "              'lr_precision': lr_scores['precision_scores'],\n",
    "              'nb_tp': nb_scores['true_positives'],\n",
    "              'rf_tp': rf_scores['true_positives'],\n",
    "              'lr_tp': lr_scores['true_positives'],\n",
    "               'nb_fp': nb_scores['false_positives'],\n",
    "              'rf_fp': rf_scores['false_positives'],\n",
    "              'lr_fp': lr_scores['false_positives']\n",
    "             }"
   ]
  },
  {
   "cell_type": "code",
   "execution_count": 6,
   "metadata": {},
   "outputs": [],
   "source": [
    "precision_scores = pd.DataFrame(all_scores)"
   ]
  },
  {
   "cell_type": "code",
   "execution_count": 7,
   "metadata": {},
   "outputs": [],
   "source": [
    "precision_scores['rf_delta'] = precision_scores['rf_tp'] - precision_scores['rf_fp']\n",
    "precision_scores['lr_delta'] = precision_scores['lr_tp'] - precision_scores['lr_fp']\n",
    "precision_scores['nb_delta'] = precision_scores['nb_tp'] - precision_scores['nb_fp']"
   ]
  },
  {
   "cell_type": "code",
   "execution_count": 8,
   "metadata": {},
   "outputs": [
    {
     "data": {
      "text/html": [
       "<div>\n",
       "<style scoped>\n",
       "    .dataframe tbody tr th:only-of-type {\n",
       "        vertical-align: middle;\n",
       "    }\n",
       "\n",
       "    .dataframe tbody tr th {\n",
       "        vertical-align: top;\n",
       "    }\n",
       "\n",
       "    .dataframe thead th {\n",
       "        text-align: right;\n",
       "    }\n",
       "</style>\n",
       "<table border=\"1\" class=\"dataframe\">\n",
       "  <thead>\n",
       "    <tr style=\"text-align: right;\">\n",
       "      <th></th>\n",
       "      <th>thresholds</th>\n",
       "      <th>nb_precision</th>\n",
       "      <th>rf_precision</th>\n",
       "      <th>lr_precision</th>\n",
       "      <th>nb_tp</th>\n",
       "      <th>rf_tp</th>\n",
       "      <th>lr_tp</th>\n",
       "      <th>nb_fp</th>\n",
       "      <th>rf_fp</th>\n",
       "      <th>lr_fp</th>\n",
       "      <th>rf_delta</th>\n",
       "      <th>lr_delta</th>\n",
       "      <th>nb_delta</th>\n",
       "    </tr>\n",
       "  </thead>\n",
       "  <tbody>\n",
       "    <tr>\n",
       "      <th>0</th>\n",
       "      <td>0.05</td>\n",
       "      <td>0.732356</td>\n",
       "      <td>0.732655</td>\n",
       "      <td>0.731570</td>\n",
       "      <td>15493</td>\n",
       "      <td>15492</td>\n",
       "      <td>15491</td>\n",
       "      <td>5662</td>\n",
       "      <td>5653</td>\n",
       "      <td>5684</td>\n",
       "      <td>9839</td>\n",
       "      <td>9807</td>\n",
       "      <td>9831</td>\n",
       "    </tr>\n",
       "    <tr>\n",
       "      <th>1</th>\n",
       "      <td>0.10</td>\n",
       "      <td>0.732435</td>\n",
       "      <td>0.733065</td>\n",
       "      <td>0.734289</td>\n",
       "      <td>15491</td>\n",
       "      <td>15486</td>\n",
       "      <td>15470</td>\n",
       "      <td>5659</td>\n",
       "      <td>5639</td>\n",
       "      <td>5598</td>\n",
       "      <td>9847</td>\n",
       "      <td>9872</td>\n",
       "      <td>9832</td>\n",
       "    </tr>\n",
       "    <tr>\n",
       "      <th>2</th>\n",
       "      <td>0.15</td>\n",
       "      <td>0.732510</td>\n",
       "      <td>0.733485</td>\n",
       "      <td>0.739239</td>\n",
       "      <td>15486</td>\n",
       "      <td>15478</td>\n",
       "      <td>15388</td>\n",
       "      <td>5655</td>\n",
       "      <td>5624</td>\n",
       "      <td>5428</td>\n",
       "      <td>9854</td>\n",
       "      <td>9960</td>\n",
       "      <td>9831</td>\n",
       "    </tr>\n",
       "    <tr>\n",
       "      <th>3</th>\n",
       "      <td>0.20</td>\n",
       "      <td>0.732977</td>\n",
       "      <td>0.734581</td>\n",
       "      <td>0.747653</td>\n",
       "      <td>15479</td>\n",
       "      <td>15460</td>\n",
       "      <td>15208</td>\n",
       "      <td>5639</td>\n",
       "      <td>5586</td>\n",
       "      <td>5133</td>\n",
       "      <td>9874</td>\n",
       "      <td>10075</td>\n",
       "      <td>9840</td>\n",
       "    </tr>\n",
       "    <tr>\n",
       "      <th>4</th>\n",
       "      <td>0.25</td>\n",
       "      <td>0.733694</td>\n",
       "      <td>0.735713</td>\n",
       "      <td>0.758103</td>\n",
       "      <td>15467</td>\n",
       "      <td>15436</td>\n",
       "      <td>14899</td>\n",
       "      <td>5614</td>\n",
       "      <td>5545</td>\n",
       "      <td>4754</td>\n",
       "      <td>9891</td>\n",
       "      <td>10145</td>\n",
       "      <td>9853</td>\n",
       "    </tr>\n",
       "  </tbody>\n",
       "</table>\n",
       "</div>"
      ],
      "text/plain": [
       "   thresholds  nb_precision  rf_precision  lr_precision  nb_tp  rf_tp  lr_tp  \\\n",
       "0        0.05      0.732356      0.732655      0.731570  15493  15492  15491   \n",
       "1        0.10      0.732435      0.733065      0.734289  15491  15486  15470   \n",
       "2        0.15      0.732510      0.733485      0.739239  15486  15478  15388   \n",
       "3        0.20      0.732977      0.734581      0.747653  15479  15460  15208   \n",
       "4        0.25      0.733694      0.735713      0.758103  15467  15436  14899   \n",
       "\n",
       "   nb_fp  rf_fp  lr_fp  rf_delta  lr_delta  nb_delta  \n",
       "0   5662   5653   5684      9839      9807      9831  \n",
       "1   5659   5639   5598      9847      9872      9832  \n",
       "2   5655   5624   5428      9854      9960      9831  \n",
       "3   5639   5586   5133      9874     10075      9840  \n",
       "4   5614   5545   4754      9891     10145      9853  "
      ]
     },
     "execution_count": 8,
     "metadata": {},
     "output_type": "execute_result"
    }
   ],
   "source": [
    "precision_scores.head()"
   ]
  },
  {
   "cell_type": "code",
   "execution_count": 9,
   "metadata": {},
   "outputs": [
    {
     "data": {
      "text/plain": [
       "<matplotlib.legend.Legend at 0x1206b4e80>"
      ]
     },
     "execution_count": 9,
     "metadata": {},
     "output_type": "execute_result"
    },
    {
     "data": {
      "image/png": "[encoded data removed]",
      "text/plain": [
       "<Figure size 432x288 with 1 Axes>"
      ]
     },
     "metadata": {
      "needs_background": "light"
     },
     "output_type": "display_data"
    }
   ],
   "source": [
    "plt.plot('thresholds', 'nb_precision', data=all_scores, label='Naive Bayes')\n",
    "plt.plot('thresholds', 'lr_precision', data=all_scores,label='Logistic Regression')\n",
    "plt.plot('thresholds', 'rf_precision', data=all_scores,label='Random Forest')\n",
    "plt.title('Relationship Between Precision and Confidence Threshold')\n",
    "plt.xlabel('Confidence Threshold')\n",
    "plt.ylabel('Precision Score')\n",
    "\n",
    "plt.legend()"
   ]
  },
  {
   "cell_type": "markdown",
   "metadata": {},
   "source": [
    "Similar to what was observed above, the precision score for Logistic Regression appears to rise in a somewhat linear fashion, as the confidence threshold increases. NB and RF stay very close to the naive baseline until they reach about .5 confidence threshold, and then go up rapidly. It's also interesting to note that the RF does not reach 1.0 precision, even when the confidence threshold is 1.0.\n",
    "\n",
    "It is also important to note that the LR model has a consistently higher Precision Score than the other two models, throughout all confidence threshold levels. Since this is the classification metric that we will be optimizing for, this is a major point in the LR's favor."
   ]
  },
  {
   "cell_type": "code",
   "execution_count": 10,
   "metadata": {},
   "outputs": [
    {
     "data": {
      "text/plain": [
       "<matplotlib.legend.Legend at 0x120757cf8>"
      ]
     },
     "execution_count": 10,
     "metadata": {},
     "output_type": "execute_result"
    },
    {
     "data": {
      "image/png": "[encoded data removed]",
      "text/plain": [
       "<Figure size 432x288 with 1 Axes>"
      ]
     },
     "metadata": {
      "needs_background": "light"
     },
     "output_type": "display_data"
    }
   ],
   "source": [
    "plt.plot('thresholds', 'nb_tp', data=all_scores, label='Naive Bayes')\n",
    "plt.plot('thresholds', 'lr_tp', data=all_scores,label='Logistic Regression')\n",
    "plt.plot('thresholds', 'rf_tp', data=all_scores,label='Random Forest')\n",
    "plt.title('Relationship Between True Positives and Confidence Threshold')\n",
    "plt.xlabel('Confidence Threshold')\n",
    "plt.ylabel('True Positives')\n",
    "\n",
    "plt.legend()"
   ]
  },
  {
   "cell_type": "markdown",
   "metadata": {},
   "source": [
    "The logisitic regression has fewer True Positives at nearly all threshold levels, and the true positives decrease in a somewhat sigmoid shape. NB and Random Forest look very similar, with True Positives dropping rapidly around .5. Naive Bayes appears to have fewer True Positives around the .65 to .8 range."
   ]
  },
  {
   "cell_type": "code",
   "execution_count": 11,
   "metadata": {},
   "outputs": [
    {
     "data": {
      "text/plain": [
       "<matplotlib.legend.Legend at 0x120856f98>"
      ]
     },
     "execution_count": 11,
     "metadata": {},
     "output_type": "execute_result"
    },
    {
     "data": {
      "image/png": "[encoded data removed]",
      "text/plain": [
       "<Figure size 432x288 with 1 Axes>"
      ]
     },
     "metadata": {
      "needs_background": "light"
     },
     "output_type": "display_data"
    }
   ],
   "source": [
    "plt.plot('thresholds', 'nb_delta', data=precision_scores, label='Naive Bayes')\n",
    "plt.plot('thresholds', 'lr_delta', data=precision_scores,label='Logistic Regression')\n",
    "plt.plot('thresholds', 'rf_delta', data=precision_scores,label='Random Forest')\n",
    "plt.title('Relationship Between Positive Class Delta and Confidence Threshold')\n",
    "plt.xlabel('Confidence Threshold')\n",
    "plt.ylabel('Positive Class Delta')\n",
    "\n",
    "plt.legend()"
   ]
  },
  {
   "cell_type": "markdown",
   "metadata": {},
   "source": [
    "The chart shows the difference in True Positives and False Positives per model, as the positive class confidence threshold increases. This is beneficial in cases where it is important to limit False Positives.\n",
    "\n",
    "As the chart shows, although the LR model does not generate as many True Positives as the other two models, it is much better at limiting the False Positives (which makes sense since it has a consistently higher precision score throughout threshold levels). It is, however, interesting to note that the LR actually has a higher delta than either NB or RF, likely because the latter two are taking advantage of class imbalance, and frequently choosing the positive class."
   ]
  },
  {
   "cell_type": "markdown",
   "metadata": {},
   "source": [
    "# Probability Comparison"
   ]
  },
  {
   "cell_type": "markdown",
   "metadata": {},
   "source": [
    "Now let's compare how the models assessed specific posts, in terms of class probability."
   ]
  },
  {
   "cell_type": "code",
   "execution_count": 12,
   "metadata": {},
   "outputs": [],
   "source": [
    "orig_text = pd.read_csv('../jsons/text_labels.csv')"
   ]
  },
  {
   "cell_type": "code",
   "execution_count": 13,
   "metadata": {},
   "outputs": [
    {
     "data": {
      "text/html": [
       "<div>\n",
       "<style scoped>\n",
       "    .dataframe tbody tr th:only-of-type {\n",
       "        vertical-align: middle;\n",
       "    }\n",
       "\n",
       "    .dataframe tbody tr th {\n",
       "        vertical-align: top;\n",
       "    }\n",
       "\n",
       "    .dataframe thead th {\n",
       "        text-align: right;\n",
       "    }\n",
       "</style>\n",
       "<table border=\"1\" class=\"dataframe\">\n",
       "  <thead>\n",
       "    <tr style=\"text-align: right;\">\n",
       "      <th></th>\n",
       "      <th>label</th>\n",
       "      <th>text</th>\n",
       "    </tr>\n",
       "  </thead>\n",
       "  <tbody>\n",
       "    <tr>\n",
       "      <th>0</th>\n",
       "      <td>2</td>\n",
       "      <td>Be Fun Fancy Free sort comment new thread Fun ...</td>\n",
       "    </tr>\n",
       "    <tr>\n",
       "      <th>1</th>\n",
       "      <td>8</td>\n",
       "      <td>As far I'm concerned Guillermo del Toro constr...</td>\n",
       "    </tr>\n",
       "    <tr>\n",
       "      <th>2</th>\n",
       "      <td>10</td>\n",
       "      <td>I writing essay I can't find word something lo...</td>\n",
       "    </tr>\n",
       "    <tr>\n",
       "      <th>3</th>\n",
       "      <td>14</td>\n",
       "      <td>Video Form Ah scary movie There something make...</td>\n",
       "    </tr>\n",
       "    <tr>\n",
       "      <th>4</th>\n",
       "      <td>15</td>\n",
       "      <td>Please use discus week's latest release We're ...</td>\n",
       "    </tr>\n",
       "  </tbody>\n",
       "</table>\n",
       "</div>"
      ],
      "text/plain": [
       "   label                                               text\n",
       "0      2  Be Fun Fancy Free sort comment new thread Fun ...\n",
       "1      8  As far I'm concerned Guillermo del Toro constr...\n",
       "2     10  I writing essay I can't find word something lo...\n",
       "3     14  Video Form Ah scary movie There something make...\n",
       "4     15  Please use discus week's latest release We're ..."
      ]
     },
     "execution_count": 13,
     "metadata": {},
     "output_type": "execute_result"
    }
   ],
   "source": [
    "orig_text.head()"
   ]
  },
  {
   "cell_type": "code",
   "execution_count": 14,
   "metadata": {},
   "outputs": [],
   "source": [
    "nb_probas = pd.read_csv('../jsons/NB_probas.csv')\n",
    "rf_probas = pd.read_csv('../jsons/RF_probas.csv')\n",
    "lr_probas = pd.read_csv('../jsons/LR_probas.csv')"
   ]
  },
  {
   "cell_type": "code",
   "execution_count": 15,
   "metadata": {},
   "outputs": [],
   "source": [
    "merged_probas = nb_probas.merge(rf_probas,on=['label','target']).merge(lr_probas,on=['label','target'])"
   ]
  },
  {
   "cell_type": "code",
   "execution_count": 16,
   "metadata": {},
   "outputs": [],
   "source": [
    "merged_probas['text'] = orig_text['text']"
   ]
  },
  {
   "cell_type": "code",
   "execution_count": 17,
   "metadata": {},
   "outputs": [
    {
     "data": {
      "text/html": [
       "<div>\n",
       "<style scoped>\n",
       "    .dataframe tbody tr th:only-of-type {\n",
       "        vertical-align: middle;\n",
       "    }\n",
       "\n",
       "    .dataframe tbody tr th {\n",
       "        vertical-align: top;\n",
       "    }\n",
       "\n",
       "    .dataframe thead th {\n",
       "        text-align: right;\n",
       "    }\n",
       "</style>\n",
       "<table border=\"1\" class=\"dataframe\">\n",
       "  <thead>\n",
       "    <tr style=\"text-align: right;\">\n",
       "      <th></th>\n",
       "      <th>label</th>\n",
       "      <th>NB_0</th>\n",
       "      <th>NB_1</th>\n",
       "      <th>target</th>\n",
       "      <th>RF_0</th>\n",
       "      <th>RF_1</th>\n",
       "      <th>LR_0</th>\n",
       "      <th>LR_1</th>\n",
       "      <th>text</th>\n",
       "    </tr>\n",
       "  </thead>\n",
       "  <tbody>\n",
       "    <tr>\n",
       "      <th>0</th>\n",
       "      <td>2</td>\n",
       "      <td>0.000004</td>\n",
       "      <td>0.999996</td>\n",
       "      <td>1.0</td>\n",
       "      <td>0.000000</td>\n",
       "      <td>1.000000</td>\n",
       "      <td>0.061948</td>\n",
       "      <td>0.938052</td>\n",
       "      <td>Be Fun Fancy Free sort comment new thread Fun ...</td>\n",
       "    </tr>\n",
       "    <tr>\n",
       "      <th>1</th>\n",
       "      <td>8</td>\n",
       "      <td>0.108307</td>\n",
       "      <td>0.891693</td>\n",
       "      <td>1.0</td>\n",
       "      <td>0.136667</td>\n",
       "      <td>0.863333</td>\n",
       "      <td>0.067615</td>\n",
       "      <td>0.932385</td>\n",
       "      <td>As far I'm concerned Guillermo del Toro constr...</td>\n",
       "    </tr>\n",
       "    <tr>\n",
       "      <th>2</th>\n",
       "      <td>10</td>\n",
       "      <td>0.133968</td>\n",
       "      <td>0.866032</td>\n",
       "      <td>1.0</td>\n",
       "      <td>0.124167</td>\n",
       "      <td>0.875833</td>\n",
       "      <td>0.202263</td>\n",
       "      <td>0.797737</td>\n",
       "      <td>I writing essay I can't find word something lo...</td>\n",
       "    </tr>\n",
       "    <tr>\n",
       "      <th>3</th>\n",
       "      <td>14</td>\n",
       "      <td>0.631982</td>\n",
       "      <td>0.368018</td>\n",
       "      <td>1.0</td>\n",
       "      <td>0.252500</td>\n",
       "      <td>0.747500</td>\n",
       "      <td>0.664586</td>\n",
       "      <td>0.335414</td>\n",
       "      <td>Video Form Ah scary movie There something make...</td>\n",
       "    </tr>\n",
       "    <tr>\n",
       "      <th>4</th>\n",
       "      <td>15</td>\n",
       "      <td>0.256183</td>\n",
       "      <td>0.743817</td>\n",
       "      <td>1.0</td>\n",
       "      <td>0.005000</td>\n",
       "      <td>0.995000</td>\n",
       "      <td>0.476536</td>\n",
       "      <td>0.523464</td>\n",
       "      <td>Please use discus week's latest release We're ...</td>\n",
       "    </tr>\n",
       "  </tbody>\n",
       "</table>\n",
       "</div>"
      ],
      "text/plain": [
       "   label      NB_0      NB_1  target      RF_0      RF_1      LR_0      LR_1  \\\n",
       "0      2  0.000004  0.999996     1.0  0.000000  1.000000  0.061948  0.938052   \n",
       "1      8  0.108307  0.891693     1.0  0.136667  0.863333  0.067615  0.932385   \n",
       "2     10  0.133968  0.866032     1.0  0.124167  0.875833  0.202263  0.797737   \n",
       "3     14  0.631982  0.368018     1.0  0.252500  0.747500  0.664586  0.335414   \n",
       "4     15  0.256183  0.743817     1.0  0.005000  0.995000  0.476536  0.523464   \n",
       "\n",
       "                                                text  \n",
       "0  Be Fun Fancy Free sort comment new thread Fun ...  \n",
       "1  As far I'm concerned Guillermo del Toro constr...  \n",
       "2  I writing essay I can't find word something lo...  \n",
       "3  Video Form Ah scary movie There something make...  \n",
       "4  Please use discus week's latest release We're ...  "
      ]
     },
     "execution_count": 17,
     "metadata": {},
     "output_type": "execute_result"
    }
   ],
   "source": [
    "merged_probas.head()"
   ]
  },
  {
   "cell_type": "markdown",
   "metadata": {},
   "source": [
    "Even after just looking at the head, it is clear that there are some major differences in terms of the different model's confidences toward certain posts.\n",
    "\n",
    "At first glance, it seems like the RF model is much more likely to have close to a 100% confidence in its classification than the LR or Naive Bayes models. This might not necessarily be a good thing if it is misclassifying, however, and there could be a benefit to Logistic Regression displaying a ~50% confidence rating if it is unsure, especially in terms of helping to tune the model."
   ]
  },
  {
   "cell_type": "markdown",
   "metadata": {},
   "source": [
    "Let's look at posts where the NB model had more than 50% confidence in the positive class, but where LR had less than 50% confidence."
   ]
  },
  {
   "cell_type": "code",
   "execution_count": 18,
   "metadata": {},
   "outputs": [
    {
     "data": {
      "text/plain": [
       "7570"
      ]
     },
     "execution_count": 18,
     "metadata": {},
     "output_type": "execute_result"
    }
   ],
   "source": [
    "len(merged_probas.loc[(merged_probas['LR_1'] < .5) & (merged_probas['NB_1'] > .5)].sort_values('LR_1',ascending=False))"
   ]
  },
  {
   "cell_type": "code",
   "execution_count": 19,
   "metadata": {},
   "outputs": [
    {
     "data": {
      "text/plain": [
       "0.3571597074781788"
      ]
     },
     "execution_count": 19,
     "metadata": {},
     "output_type": "execute_result"
    }
   ],
   "source": [
    "7570 / len(merged_probas)"
   ]
  },
  {
   "cell_type": "markdown",
   "metadata": {},
   "source": [
    "Seems like it occurs fairly often (35.7%). What about instances where the LR has more than 50% confidence, but NB has less than 50%?"
   ]
  },
  {
   "cell_type": "code",
   "execution_count": 20,
   "metadata": {},
   "outputs": [
    {
     "data": {
      "text/plain": [
       "13"
      ]
     },
     "execution_count": 20,
     "metadata": {},
     "output_type": "execute_result"
    }
   ],
   "source": [
    "len(merged_probas.loc[(merged_probas['NB_1'] < .5) & (merged_probas['LR_1'] > .5)].sort_values('LR_1',ascending=False))"
   ]
  },
  {
   "cell_type": "markdown",
   "metadata": {},
   "source": [
    "Interestingly enough, this occurs very infrequently. "
   ]
  },
  {
   "cell_type": "code",
   "execution_count": 74,
   "metadata": {},
   "outputs": [],
   "source": [
    "naive_positive = merged_probas.loc[(merged_probas['LR_1'] < .5) & (merged_probas['NB_1'] > .5)].sort_values('LR_1',ascending=False)"
   ]
  },
  {
   "cell_type": "code",
   "execution_count": 81,
   "metadata": {
    "scrolled": true
   },
   "outputs": [
    {
     "data": {
      "text/html": [
       "<div>\n",
       "<style scoped>\n",
       "    .dataframe tbody tr th:only-of-type {\n",
       "        vertical-align: middle;\n",
       "    }\n",
       "\n",
       "    .dataframe tbody tr th {\n",
       "        vertical-align: top;\n",
       "    }\n",
       "\n",
       "    .dataframe thead th {\n",
       "        text-align: right;\n",
       "    }\n",
       "</style>\n",
       "<table border=\"1\" class=\"dataframe\">\n",
       "  <thead>\n",
       "    <tr style=\"text-align: right;\">\n",
       "      <th></th>\n",
       "      <th>text</th>\n",
       "      <th>target</th>\n",
       "      <th>LR_1</th>\n",
       "      <th>NB_1</th>\n",
       "      <th>RF_1</th>\n",
       "    </tr>\n",
       "  </thead>\n",
       "  <tbody>\n",
       "    <tr>\n",
       "      <th>7177</th>\n",
       "      <td>This comment You think ok</td>\n",
       "      <td>1.0</td>\n",
       "      <td>0.499988</td>\n",
       "      <td>0.762035</td>\n",
       "      <td>0.825825</td>\n",
       "    </tr>\n",
       "    <tr>\n",
       "      <th>19506</th>\n",
       "      <td>Yeah I get interesting decision replaced chara...</td>\n",
       "      <td>0.0</td>\n",
       "      <td>0.499962</td>\n",
       "      <td>0.716319</td>\n",
       "      <td>0.710167</td>\n",
       "    </tr>\n",
       "    <tr>\n",
       "      <th>16446</th>\n",
       "      <td>I disagree point Annihilation focused bedazzli...</td>\n",
       "      <td>0.0</td>\n",
       "      <td>0.499949</td>\n",
       "      <td>0.785875</td>\n",
       "      <td>0.822179</td>\n",
       "    </tr>\n",
       "    <tr>\n",
       "      <th>7837</th>\n",
       "      <td>Yeah watching second time great could notice m...</td>\n",
       "      <td>1.0</td>\n",
       "      <td>0.499943</td>\n",
       "      <td>0.727455</td>\n",
       "      <td>0.725000</td>\n",
       "    </tr>\n",
       "    <tr>\n",
       "      <th>17067</th>\n",
       "      <td>True put effort know I want I liked able walk ...</td>\n",
       "      <td>0.0</td>\n",
       "      <td>0.499933</td>\n",
       "      <td>0.718660</td>\n",
       "      <td>0.585000</td>\n",
       "    </tr>\n",
       "    <tr>\n",
       "      <th>20376</th>\n",
       "      <td>The action PG could used R rated violence I gu...</td>\n",
       "      <td>0.0</td>\n",
       "      <td>0.499910</td>\n",
       "      <td>0.722934</td>\n",
       "      <td>0.672083</td>\n",
       "    </tr>\n",
       "    <tr>\n",
       "      <th>2248</th>\n",
       "      <td>The whole point supposed empathize girl come r...</td>\n",
       "      <td>1.0</td>\n",
       "      <td>0.499907</td>\n",
       "      <td>0.811126</td>\n",
       "      <td>0.690000</td>\n",
       "    </tr>\n",
       "    <tr>\n",
       "      <th>20179</th>\n",
       "      <td>It sound like accord really There people inter...</td>\n",
       "      <td>0.0</td>\n",
       "      <td>0.499887</td>\n",
       "      <td>0.845097</td>\n",
       "      <td>0.820000</td>\n",
       "    </tr>\n",
       "    <tr>\n",
       "      <th>17486</th>\n",
       "      <td>The remaining character know however For know ...</td>\n",
       "      <td>0.0</td>\n",
       "      <td>0.499871</td>\n",
       "      <td>0.670180</td>\n",
       "      <td>0.825000</td>\n",
       "    </tr>\n",
       "    <tr>\n",
       "      <th>11803</th>\n",
       "      <td>Mandy mentioned live Crystal Lake nod Friday t...</td>\n",
       "      <td>1.0</td>\n",
       "      <td>0.499863</td>\n",
       "      <td>0.506745</td>\n",
       "      <td>0.860000</td>\n",
       "    </tr>\n",
       "  </tbody>\n",
       "</table>\n",
       "</div>"
      ],
      "text/plain": [
       "                                                    text  target      LR_1  \\\n",
       "7177                           This comment You think ok     1.0  0.499988   \n",
       "19506  Yeah I get interesting decision replaced chara...     0.0  0.499962   \n",
       "16446  I disagree point Annihilation focused bedazzli...     0.0  0.499949   \n",
       "7837   Yeah watching second time great could notice m...     1.0  0.499943   \n",
       "17067  True put effort know I want I liked able walk ...     0.0  0.499933   \n",
       "20376  The action PG could used R rated violence I gu...     0.0  0.499910   \n",
       "2248   The whole point supposed empathize girl come r...     1.0  0.499907   \n",
       "20179  It sound like accord really There people inter...     0.0  0.499887   \n",
       "17486  The remaining character know however For know ...     0.0  0.499871   \n",
       "11803  Mandy mentioned live Crystal Lake nod Friday t...     1.0  0.499863   \n",
       "\n",
       "           NB_1      RF_1  \n",
       "7177   0.762035  0.825825  \n",
       "19506  0.716319  0.710167  \n",
       "16446  0.785875  0.822179  \n",
       "7837   0.727455  0.725000  \n",
       "17067  0.718660  0.585000  \n",
       "20376  0.722934  0.672083  \n",
       "2248   0.811126  0.690000  \n",
       "20179  0.845097  0.820000  \n",
       "17486  0.670180  0.825000  \n",
       "11803  0.506745  0.860000  "
      ]
     },
     "execution_count": 81,
     "metadata": {},
     "output_type": "execute_result"
    }
   ],
   "source": [
    "naive_positive[['text', 'target', 'LR_1', 'NB_1', 'RF_1']].head(10)"
   ]
  },
  {
   "cell_type": "markdown",
   "metadata": {},
   "source": [
    "It seems like the RF and NB models are much more likely to give aggressive probabilities than LR, with mixed results. In cases where the text is less-than-conclusive, it is probably beneficial to have the model deliver a predicted probability of ~50%, rather than guessing incorrectly."
   ]
  },
  {
   "cell_type": "code",
   "execution_count": 19,
   "metadata": {},
   "outputs": [
    {
     "data": {
      "text/plain": [
       "664"
      ]
     },
     "execution_count": 19,
     "metadata": {},
     "output_type": "execute_result"
    }
   ],
   "source": [
    "len(merged_probas.loc[(merged_probas['LR_1'] < .51) & (merged_probas['LR_1'] > .49)])"
   ]
  },
  {
   "cell_type": "markdown",
   "metadata": {},
   "source": [
    "On 664 occasions out of 21195 (3% of the time), the LR classifier has a predicted probability from between .51 to .49."
   ]
  },
  {
   "cell_type": "code",
   "execution_count": 20,
   "metadata": {},
   "outputs": [
    {
     "data": {
      "text/plain": [
       "190"
      ]
     },
     "execution_count": 20,
     "metadata": {},
     "output_type": "execute_result"
    }
   ],
   "source": [
    "len(merged_probas.loc[(merged_probas['NB_1'] < .51) & (merged_probas['NB_1'] > .49)])"
   ]
  },
  {
   "cell_type": "code",
   "execution_count": 21,
   "metadata": {},
   "outputs": [
    {
     "data": {
      "text/plain": [
       "135"
      ]
     },
     "execution_count": 21,
     "metadata": {},
     "output_type": "execute_result"
    }
   ],
   "source": [
    "len(merged_probas.loc[(merged_probas['RF_1'] < .51) & (merged_probas['RF_1'] > .49)])"
   ]
  },
  {
   "cell_type": "markdown",
   "metadata": {},
   "source": [
    "It appears that the NB and RF classifiers give an \"unsure\" predicted probability at a much less frequent rate than the LR, which could be helpful if they are classifying correctly."
   ]
  },
  {
   "cell_type": "code",
   "execution_count": 27,
   "metadata": {},
   "outputs": [
    {
     "data": {
      "text/plain": [
       "6654"
      ]
     },
     "execution_count": 27,
     "metadata": {},
     "output_type": "execute_result"
    }
   ],
   "source": [
    "len(merged_probas.loc[(merged_probas['LR_1'] < .6) & (merged_probas['LR_1'] > .4)])"
   ]
  },
  {
   "cell_type": "code",
   "execution_count": 25,
   "metadata": {},
   "outputs": [
    {
     "data": {
      "text/plain": [
       "2132"
      ]
     },
     "execution_count": 25,
     "metadata": {},
     "output_type": "execute_result"
    }
   ],
   "source": [
    "len(merged_probas.loc[(merged_probas['NB_1'] < .6) & (merged_probas['NB_1'] > .4)])"
   ]
  },
  {
   "cell_type": "code",
   "execution_count": 26,
   "metadata": {},
   "outputs": [
    {
     "data": {
      "text/plain": [
       "1813"
      ]
     },
     "execution_count": 26,
     "metadata": {},
     "output_type": "execute_result"
    }
   ],
   "source": [
    "len(merged_probas.loc[(merged_probas['RF_1'] < .6) & (merged_probas['RF_1'] > .4)])"
   ]
  },
  {
   "cell_type": "code",
   "execution_count": 24,
   "metadata": {},
   "outputs": [
    {
     "data": {
      "text/plain": [
       "0.3139419674451522"
      ]
     },
     "execution_count": 24,
     "metadata": {},
     "output_type": "execute_result"
    }
   ],
   "source": [
    "6654 / len(merged_probas)"
   ]
  },
  {
   "cell_type": "markdown",
   "metadata": {},
   "source": [
    "The LR's approach to ambiguity is even more clear when looking at the probability, as it has a positive class probability of between .4 and .6 for about 30% of posts.\n",
    "\n",
    "As we are looking to minimize False Positives, I think that this is a sensible approach, and that a LR is the best choice for this context. I also think that the top coefficients for the LR are more sensible and interpretable, when compared to the domain that it is modeling.\n",
    "\n",
    "In the future, I think it could be beneficial to take a look at some of the ambiguously labeled posts as a form of model tuning, and possibly inspiration about additional stop words to add."
   ]
  }
 ],
 "metadata": {
  "kernelspec": {
   "display_name": "Python 3",
   "language": "python",
   "name": "python3"
  },
  "language_info": {
   "codemirror_mode": {
    "name": "ipython",
    "version": 3
   },
   "file_extension": ".py",
   "mimetype": "text/x-python",
   "name": "python",
   "nbconvert_exporter": "python",
   "pygments_lexer": "ipython3",
   "version": "3.7.0"
  }
 },
 "nbformat": 4,
 "nbformat_minor": 2
}
