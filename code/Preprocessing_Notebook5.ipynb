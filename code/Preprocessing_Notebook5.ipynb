{
 "cells": [
  {
   "cell_type": "code",
   "execution_count": 1,
   "metadata": {},
   "outputs": [],
   "source": [
    "import pandas as pd\n",
    "from nltk.stem import WordNetLemmatizer\n",
    "from nltk.tokenize import RegexpTokenizer\n",
    "import nltk\n",
    "import re\n",
    "from sklearn.feature_extraction.text import TfidfVectorizer\n",
    "from nltk.tokenize import WhitespaceTokenizer\n",
    "from sklearn.feature_extraction.text import CountVectorizer\n",
    "from sklearn.model_selection import train_test_split\n",
    "from sklearn.decomposition import TruncatedSVD\n",
    "\n",
    "import matplotlib.pyplot as plt\n",
    "%matplotlib inline\n",
    "import numpy as np"
   ]
  },
  {
   "cell_type": "code",
   "execution_count": 2,
   "metadata": {},
   "outputs": [
    {
     "name": "stderr",
     "output_type": "stream",
     "text": [
      "[nltk_data] Downloading package stopwords to\n",
      "[nltk_data]     C:\\Users\\16313\\AppData\\Roaming\\nltk_data...\n",
      "[nltk_data]   Package stopwords is already up-to-date!\n"
     ]
    },
    {
     "data": {
      "text/plain": [
       "True"
      ]
     },
     "execution_count": 2,
     "metadata": {},
     "output_type": "execute_result"
    }
   ],
   "source": [
    "nltk.download('stopwords')"
   ]
  },
  {
   "cell_type": "code",
   "execution_count": 3,
   "metadata": {},
   "outputs": [],
   "source": [
    "raw = pd.read_csv('../jsons/combined_clean.csv')"
   ]
  },
  {
   "cell_type": "markdown",
   "metadata": {},
   "source": [
    "Now that the dataset has been created, the actual text must be pre-processed before modeling."
   ]
  },
  {
   "cell_type": "markdown",
   "metadata": {},
   "source": [
    "There are many things that would be benficial to remove from the dataset, such a common or overly specific words, or bits of punction/formatting. There are also many regular or automated types of posts that will only add noise to the model.\n",
    "\n",
    "Searching the dataset for the string 'CMV', provides an example. 'CMV' stands for 'Change My View,' and is frequently used on reddit discussion threads."
   ]
  },
  {
   "cell_type": "code",
   "execution_count": 4,
   "metadata": {},
   "outputs": [
    {
     "data": {
      "text/html": [
       "<div>\n",
       "<style scoped>\n",
       "    .dataframe tbody tr th:only-of-type {\n",
       "        vertical-align: middle;\n",
       "    }\n",
       "\n",
       "    .dataframe tbody tr th {\n",
       "        vertical-align: top;\n",
       "    }\n",
       "\n",
       "    .dataframe thead th {\n",
       "        text-align: right;\n",
       "    }\n",
       "</style>\n",
       "<table border=\"1\" class=\"dataframe\">\n",
       "  <thead>\n",
       "    <tr style=\"text-align: right;\">\n",
       "      <th></th>\n",
       "      <th>label</th>\n",
       "      <th>text</th>\n",
       "      <th>is_comment</th>\n",
       "      <th>score</th>\n",
       "    </tr>\n",
       "  </thead>\n",
       "  <tbody>\n",
       "    <tr>\n",
       "      <th>60008</th>\n",
       "      <td>1</td>\n",
       "      <td>none I had to study La regle du jeu (Rules of ...</td>\n",
       "      <td>True</td>\n",
       "      <td>1.0</td>\n",
       "    </tr>\n",
       "    <tr>\n",
       "      <th>69451</th>\n",
       "      <td>0</td>\n",
       "      <td>Much like /r/changemyview, this /r/Flicks CMV ...</td>\n",
       "      <td>False</td>\n",
       "      <td>8.0</td>\n",
       "    </tr>\n",
       "    <tr>\n",
       "      <th>69470</th>\n",
       "      <td>0</td>\n",
       "      <td>Much like /r/changemyview, this /r/Flicks CMV ...</td>\n",
       "      <td>False</td>\n",
       "      <td>21.0</td>\n",
       "    </tr>\n",
       "    <tr>\n",
       "      <th>69489</th>\n",
       "      <td>0</td>\n",
       "      <td>Much like /r/changemyview, this /r/Flicks CMV ...</td>\n",
       "      <td>False</td>\n",
       "      <td>28.0</td>\n",
       "    </tr>\n",
       "    <tr>\n",
       "      <th>69506</th>\n",
       "      <td>0</td>\n",
       "      <td>Much like /r/changemyview, this /r/Flicks CMV ...</td>\n",
       "      <td>False</td>\n",
       "      <td>20.0</td>\n",
       "    </tr>\n",
       "  </tbody>\n",
       "</table>\n",
       "</div>"
      ],
      "text/plain": [
       "       label                                               text  is_comment  \\\n",
       "60008      1  none I had to study La regle du jeu (Rules of ...        True   \n",
       "69451      0  Much like /r/changemyview, this /r/Flicks CMV ...       False   \n",
       "69470      0  Much like /r/changemyview, this /r/Flicks CMV ...       False   \n",
       "69489      0  Much like /r/changemyview, this /r/Flicks CMV ...       False   \n",
       "69506      0  Much like /r/changemyview, this /r/Flicks CMV ...       False   \n",
       "\n",
       "       score  \n",
       "60008    1.0  \n",
       "69451    8.0  \n",
       "69470   21.0  \n",
       "69489   28.0  \n",
       "69506   20.0  "
      ]
     },
     "execution_count": 4,
     "metadata": {},
     "output_type": "execute_result"
    }
   ],
   "source": [
    "raw[raw.text.str.contains(\"CMV\")].head()"
   ]
  },
  {
   "cell_type": "code",
   "execution_count": 5,
   "metadata": {},
   "outputs": [
    {
     "data": {
      "text/html": [
       "<div>\n",
       "<style scoped>\n",
       "    .dataframe tbody tr th:only-of-type {\n",
       "        vertical-align: middle;\n",
       "    }\n",
       "\n",
       "    .dataframe tbody tr th {\n",
       "        vertical-align: top;\n",
       "    }\n",
       "\n",
       "    .dataframe thead th {\n",
       "        text-align: right;\n",
       "    }\n",
       "</style>\n",
       "<table border=\"1\" class=\"dataframe\">\n",
       "  <thead>\n",
       "    <tr style=\"text-align: right;\">\n",
       "      <th></th>\n",
       "      <th>label</th>\n",
       "      <th>text</th>\n",
       "      <th>is_comment</th>\n",
       "      <th>score</th>\n",
       "    </tr>\n",
       "  </thead>\n",
       "  <tbody>\n",
       "    <tr>\n",
       "      <th>5</th>\n",
       "      <td>1</td>\n",
       "      <td>#[Be Fun and Fancy Free!](https://www.youtube....</td>\n",
       "      <td>False</td>\n",
       "      <td>3.0</td>\n",
       "    </tr>\n",
       "    <tr>\n",
       "      <th>35</th>\n",
       "      <td>1</td>\n",
       "      <td>#[Be Fun and Fancy Free!](https://www.youtube....</td>\n",
       "      <td>False</td>\n",
       "      <td>7.0</td>\n",
       "    </tr>\n",
       "    <tr>\n",
       "      <th>53</th>\n",
       "      <td>1</td>\n",
       "      <td>#[Be Fun and Fancy Free!](https://www.youtube....</td>\n",
       "      <td>False</td>\n",
       "      <td>11.0</td>\n",
       "    </tr>\n",
       "    <tr>\n",
       "      <th>76</th>\n",
       "      <td>1</td>\n",
       "      <td>#[Be Fun and Fancy Free!](https://www.youtube....</td>\n",
       "      <td>False</td>\n",
       "      <td>6.0</td>\n",
       "    </tr>\n",
       "    <tr>\n",
       "      <th>127</th>\n",
       "      <td>1</td>\n",
       "      <td>#[Be Fun and Fancy Free!](https://www.youtube....</td>\n",
       "      <td>False</td>\n",
       "      <td>3.0</td>\n",
       "    </tr>\n",
       "  </tbody>\n",
       "</table>\n",
       "</div>"
      ],
      "text/plain": [
       "     label                                               text  is_comment  \\\n",
       "5        1  #[Be Fun and Fancy Free!](https://www.youtube....       False   \n",
       "35       1  #[Be Fun and Fancy Free!](https://www.youtube....       False   \n",
       "53       1  #[Be Fun and Fancy Free!](https://www.youtube....       False   \n",
       "76       1  #[Be Fun and Fancy Free!](https://www.youtube....       False   \n",
       "127      1  #[Be Fun and Fancy Free!](https://www.youtube....       False   \n",
       "\n",
       "     score  \n",
       "5      3.0  \n",
       "35     7.0  \n",
       "53    11.0  \n",
       "76     6.0  \n",
       "127    3.0  "
      ]
     },
     "execution_count": 5,
     "metadata": {},
     "output_type": "execute_result"
    }
   ],
   "source": [
    "raw[raw.text.str.contains(\"Fancy\")].head()"
   ]
  },
  {
   "cell_type": "markdown",
   "metadata": {},
   "source": [
    "These searches reveal both automated/recurring posts, as well as reddit subforum names that are probably better off being removed.\n",
    "\n",
    "First, I will remove all URLs from the dataset, as well as all numbers and references to a particular subreddit (such as 'r/TrueFilm, or anything with 'r/___'."
   ]
  },
  {
   "cell_type": "code",
   "execution_count": 6,
   "metadata": {},
   "outputs": [],
   "source": [
    "raw['text'] = raw['text'].replace(r'http\\S+', '', regex=True).replace(r'www\\S+', '', regex=True)\n",
    "raw['text'] = raw['text'].replace(r'\\s[\\/]?r\\/[^\\s]+', '', regex=True)\n",
    "raw['text'] = raw['text'].apply(lambda x: x.replace('films','film'))\n",
    "raw['text'] = raw['text'].apply(lambda x: x.replace('movies','movie'))\n",
    "raw['text'] = raw['text'].apply(lambda x: re.sub(r'\\d+', '', x))"
   ]
  },
  {
   "cell_type": "code",
   "execution_count": 7,
   "metadata": {},
   "outputs": [
    {
     "data": {
      "text/html": [
       "<div>\n",
       "<style scoped>\n",
       "    .dataframe tbody tr th:only-of-type {\n",
       "        vertical-align: middle;\n",
       "    }\n",
       "\n",
       "    .dataframe tbody tr th {\n",
       "        vertical-align: top;\n",
       "    }\n",
       "\n",
       "    .dataframe thead th {\n",
       "        text-align: right;\n",
       "    }\n",
       "</style>\n",
       "<table border=\"1\" class=\"dataframe\">\n",
       "  <thead>\n",
       "    <tr style=\"text-align: right;\">\n",
       "      <th></th>\n",
       "      <th>label</th>\n",
       "      <th>text</th>\n",
       "      <th>is_comment</th>\n",
       "      <th>score</th>\n",
       "    </tr>\n",
       "  </thead>\n",
       "  <tbody>\n",
       "    <tr>\n",
       "      <th>60008</th>\n",
       "      <td>1</td>\n",
       "      <td>none I had to study La regle du jeu (Rules of ...</td>\n",
       "      <td>True</td>\n",
       "      <td>1.0</td>\n",
       "    </tr>\n",
       "    <tr>\n",
       "      <th>69451</th>\n",
       "      <td>0</td>\n",
       "      <td>Much like this CMV thread is for you to post v...</td>\n",
       "      <td>False</td>\n",
       "      <td>8.0</td>\n",
       "    </tr>\n",
       "    <tr>\n",
       "      <th>69470</th>\n",
       "      <td>0</td>\n",
       "      <td>Much like this CMV thread is for you to post v...</td>\n",
       "      <td>False</td>\n",
       "      <td>21.0</td>\n",
       "    </tr>\n",
       "    <tr>\n",
       "      <th>69489</th>\n",
       "      <td>0</td>\n",
       "      <td>Much like this CMV thread is for you to post v...</td>\n",
       "      <td>False</td>\n",
       "      <td>28.0</td>\n",
       "    </tr>\n",
       "    <tr>\n",
       "      <th>69506</th>\n",
       "      <td>0</td>\n",
       "      <td>Much like this CMV thread is for you to post v...</td>\n",
       "      <td>False</td>\n",
       "      <td>20.0</td>\n",
       "    </tr>\n",
       "  </tbody>\n",
       "</table>\n",
       "</div>"
      ],
      "text/plain": [
       "       label                                               text  is_comment  \\\n",
       "60008      1  none I had to study La regle du jeu (Rules of ...        True   \n",
       "69451      0  Much like this CMV thread is for you to post v...       False   \n",
       "69470      0  Much like this CMV thread is for you to post v...       False   \n",
       "69489      0  Much like this CMV thread is for you to post v...       False   \n",
       "69506      0  Much like this CMV thread is for you to post v...       False   \n",
       "\n",
       "       score  \n",
       "60008    1.0  \n",
       "69451    8.0  \n",
       "69470   21.0  \n",
       "69489   28.0  \n",
       "69506   20.0  "
      ]
     },
     "execution_count": 7,
     "metadata": {},
     "output_type": "execute_result"
    }
   ],
   "source": [
    "raw[raw.text.str.contains(\"CMV\")].head()"
   ]
  },
  {
   "cell_type": "markdown",
   "metadata": {},
   "source": [
    "Next, I will remove certain rows that contain text indicating it is an automated or recurring post."
   ]
  },
  {
   "cell_type": "code",
   "execution_count": 8,
   "metadata": {},
   "outputs": [],
   "source": [
    "raw = raw[~raw.text.str.contains('Fancy Free')]\n",
    "raw = raw[~raw.text.str.contains('TrueFilm frontpage')]\n",
    "raw = raw[~raw.text.str.contains(\"I'm a bot\")]\n",
    "raw = raw[~raw.text.str.contains(\"General Discussion thread\")]\n",
    "raw = raw[~raw.text.str.contains(\"blahblah\")]\n",
    "raw = raw[~raw.text.str.contains(\"beep boop\")]\n",
    "raw = raw[~raw.text.str.contains(\"thread is for you to post\")]"
   ]
  },
  {
   "cell_type": "code",
   "execution_count": 9,
   "metadata": {},
   "outputs": [
    {
     "data": {
      "text/html": [
       "<div>\n",
       "<style scoped>\n",
       "    .dataframe tbody tr th:only-of-type {\n",
       "        vertical-align: middle;\n",
       "    }\n",
       "\n",
       "    .dataframe tbody tr th {\n",
       "        vertical-align: top;\n",
       "    }\n",
       "\n",
       "    .dataframe thead th {\n",
       "        text-align: right;\n",
       "    }\n",
       "</style>\n",
       "<table border=\"1\" class=\"dataframe\">\n",
       "  <thead>\n",
       "    <tr style=\"text-align: right;\">\n",
       "      <th></th>\n",
       "      <th>label</th>\n",
       "      <th>text</th>\n",
       "      <th>is_comment</th>\n",
       "      <th>score</th>\n",
       "    </tr>\n",
       "  </thead>\n",
       "  <tbody>\n",
       "    <tr>\n",
       "      <th>60008</th>\n",
       "      <td>1</td>\n",
       "      <td>none I had to study La regle du jeu (Rules of ...</td>\n",
       "      <td>True</td>\n",
       "      <td>1.0</td>\n",
       "    </tr>\n",
       "    <tr>\n",
       "      <th>73966</th>\n",
       "      <td>0</td>\n",
       "      <td>none Why do so many people *love* Baby Driver...</td>\n",
       "      <td>False</td>\n",
       "      <td>13.0</td>\n",
       "    </tr>\n",
       "    <tr>\n",
       "      <th>74875</th>\n",
       "      <td>0</td>\n",
       "      <td>none I think your criticisms of the film are ...</td>\n",
       "      <td>False</td>\n",
       "      <td>25.0</td>\n",
       "    </tr>\n",
       "    <tr>\n",
       "      <th>75629</th>\n",
       "      <td>0</td>\n",
       "      <td>none CMV - Taxi Driver is incredibly overrate...</td>\n",
       "      <td>False</td>\n",
       "      <td>0.0</td>\n",
       "    </tr>\n",
       "    <tr>\n",
       "      <th>75651</th>\n",
       "      <td>0</td>\n",
       "      <td>none CMV - Cinematics and the way a story is ...</td>\n",
       "      <td>False</td>\n",
       "      <td>9.0</td>\n",
       "    </tr>\n",
       "  </tbody>\n",
       "</table>\n",
       "</div>"
      ],
      "text/plain": [
       "       label                                               text  is_comment  \\\n",
       "60008      1  none I had to study La regle du jeu (Rules of ...        True   \n",
       "73966      0   none Why do so many people *love* Baby Driver...       False   \n",
       "74875      0   none I think your criticisms of the film are ...       False   \n",
       "75629      0   none CMV - Taxi Driver is incredibly overrate...       False   \n",
       "75651      0   none CMV - Cinematics and the way a story is ...       False   \n",
       "\n",
       "       score  \n",
       "60008    1.0  \n",
       "73966   13.0  \n",
       "74875   25.0  \n",
       "75629    0.0  \n",
       "75651    9.0  "
      ]
     },
     "execution_count": 9,
     "metadata": {},
     "output_type": "execute_result"
    }
   ],
   "source": [
    "raw[raw.text.str.contains(\"CMV\")].head()"
   ]
  },
  {
   "cell_type": "markdown",
   "metadata": {},
   "source": [
    "I also want to remove 'stopwords,' which are extremely common (or noisy) words that will likely just add noise to the model.\n",
    "\n",
    "Note that much like the data science process in general, these pre-processing steps are highly iterative and non-linear. It is likely that new stop words or noisy posts will be discovered during EDA or after analyzing the results of a model, which will necessitate further pre-processing.\n",
    "\n",
    "Although the NLTK package contains a built-in stopwords package, I will also be appending my own custom stopwords to the list."
   ]
  },
  {
   "cell_type": "code",
   "execution_count": 10,
   "metadata": {},
   "outputs": [],
   "source": [
    "stopword_list = nltk.corpus.stopwords.words('english')\n",
    "stopword_list.append('none')\n",
    "stopword_list.append('No_Post')\n",
    "stopword_list.append(\"'s\")\n",
    "stopword_list.append('[removed]')\n",
    "stopword_list.append('[deleted]')\n",
    "stopword_list.append('removed')\n",
    "stopword_list.append('deleted')\n",
    "stopword_list.append('gt')\n",
    "stopword_list.append('ve')\n",
    "stopword_list.append('xb')\n",
    "stopword_list.append('amp')\n",
    "stopword_list.append('cmv')\n",
    "stopword_list.append('subreddit')\n",
    "stopword_list.append('oh')\n",
    "stopword_list.append('lol')\n",
    "stopword_list.append('reddit')\n",
    "stopword_list.append('haha')\n",
    "stopword_list.append('yesterday')\n",
    "stopword_list.append('crafted')\n",
    "stopword_list.append('week')\n",
    "stopword_list.append('truefilm')\n",
    "stopword_list.append('TrueFilm')\n",
    "stopword_list.append('flicks')\n",
    "stopword_list.append('rule')\n",
    "stopword_list.append('remember')\n",
    "stopword_list.append('thread')\n",
    "stopword_list.append('blah')\n",
    "stopword_list.append('this')\n",
    "stopword_list.append('kind')\n",
    "stopword_list.append('general discussion')\n",
    "stopword_list.append('CMV')\n",
    "#stopword_list.append('movie')\n",
    "#stopword_list.append('film')"
   ]
  },
  {
   "cell_type": "code",
   "execution_count": 11,
   "metadata": {},
   "outputs": [],
   "source": [
    "def remove_stopwords(text):\n",
    "    tokenizer = RegexpTokenizer(\"[\\w']+\")\n",
    "    tokens = tokenizer.tokenize(text)\n",
    "    filtered_tokens = [token for token in tokens if token not in stopword_list]\n",
    "    filtered_text = ' '.join(filtered_tokens)    \n",
    "    return filtered_text"
   ]
  },
  {
   "cell_type": "code",
   "execution_count": 12,
   "metadata": {},
   "outputs": [],
   "source": [
    "raw['text'] = raw['text'].apply(lambda x: remove_stopwords(x))"
   ]
  },
  {
   "cell_type": "markdown",
   "metadata": {},
   "source": [
    "I also want to remove any rows that do not contain any posts."
   ]
  },
  {
   "cell_type": "code",
   "execution_count": 13,
   "metadata": {},
   "outputs": [],
   "source": [
    "def text_finder(text):\n",
    "    if len(text) == 0:\n",
    "        return('notext')\n",
    "    else:\n",
    "        return('text')"
   ]
  },
  {
   "cell_type": "code",
   "execution_count": 14,
   "metadata": {},
   "outputs": [],
   "source": [
    "raw['has_text'] = raw['text'].apply(lambda x: text_finder(x))"
   ]
  },
  {
   "cell_type": "code",
   "execution_count": 15,
   "metadata": {},
   "outputs": [],
   "source": [
    "raw_clean = raw.loc[raw['has_text'] == 'text']"
   ]
  },
  {
   "cell_type": "code",
   "execution_count": 16,
   "metadata": {},
   "outputs": [
    {
     "name": "stderr",
     "output_type": "stream",
     "text": [
      "C:\\Users\\16313\\Anaconda3\\lib\\site-packages\\ipykernel_launcher.py:1: SettingWithCopyWarning: \n",
      "A value is trying to be set on a copy of a slice from a DataFrame.\n",
      "Try using .loc[row_indexer,col_indexer] = value instead\n",
      "\n",
      "See the caveats in the documentation: http://pandas.pydata.org/pandas-docs/stable/indexing.html#indexing-view-versus-copy\n",
      "  \"\"\"Entry point for launching an IPython kernel.\n"
     ]
    }
   ],
   "source": [
    "raw_clean['text'] = raw_clean['text'].apply(lambda x: remove_stopwords(x))"
   ]
  },
  {
   "cell_type": "code",
   "execution_count": 17,
   "metadata": {},
   "outputs": [
    {
     "data": {
      "text/html": [
       "<div>\n",
       "<style scoped>\n",
       "    .dataframe tbody tr th:only-of-type {\n",
       "        vertical-align: middle;\n",
       "    }\n",
       "\n",
       "    .dataframe tbody tr th {\n",
       "        vertical-align: top;\n",
       "    }\n",
       "\n",
       "    .dataframe thead th {\n",
       "        text-align: right;\n",
       "    }\n",
       "</style>\n",
       "<table border=\"1\" class=\"dataframe\">\n",
       "  <thead>\n",
       "    <tr style=\"text-align: right;\">\n",
       "      <th></th>\n",
       "      <th>label</th>\n",
       "      <th>text</th>\n",
       "      <th>is_comment</th>\n",
       "      <th>score</th>\n",
       "      <th>has_text</th>\n",
       "    </tr>\n",
       "  </thead>\n",
       "  <tbody>\n",
       "    <tr>\n",
       "      <th>1</th>\n",
       "      <td>1</td>\n",
       "      <td>I watched On The Waterfront last night absolut...</td>\n",
       "      <td>False</td>\n",
       "      <td>33.0</td>\n",
       "      <td>text</td>\n",
       "    </tr>\n",
       "    <tr>\n",
       "      <th>4</th>\n",
       "      <td>1</td>\n",
       "      <td>I seem pretty good grasp what's happening film...</td>\n",
       "      <td>False</td>\n",
       "      <td>0.0</td>\n",
       "      <td>text</td>\n",
       "    </tr>\n",
       "    <tr>\n",
       "      <th>6</th>\n",
       "      <td>1</td>\n",
       "      <td>People talk Iranian cinema serves political pu...</td>\n",
       "      <td>False</td>\n",
       "      <td>0.0</td>\n",
       "      <td>text</td>\n",
       "    </tr>\n",
       "    <tr>\n",
       "      <th>7</th>\n",
       "      <td>1</td>\n",
       "      <td>This post inspired Kelly Reichardt's Certain W...</td>\n",
       "      <td>False</td>\n",
       "      <td>0.0</td>\n",
       "      <td>text</td>\n",
       "    </tr>\n",
       "    <tr>\n",
       "      <th>8</th>\n",
       "      <td>1</td>\n",
       "      <td>I recently watched Tarantino flick I like movi...</td>\n",
       "      <td>False</td>\n",
       "      <td>46.0</td>\n",
       "      <td>text</td>\n",
       "    </tr>\n",
       "  </tbody>\n",
       "</table>\n",
       "</div>"
      ],
      "text/plain": [
       "   label                                               text  is_comment  \\\n",
       "1      1  I watched On The Waterfront last night absolut...       False   \n",
       "4      1  I seem pretty good grasp what's happening film...       False   \n",
       "6      1  People talk Iranian cinema serves political pu...       False   \n",
       "7      1  This post inspired Kelly Reichardt's Certain W...       False   \n",
       "8      1  I recently watched Tarantino flick I like movi...       False   \n",
       "\n",
       "   score has_text  \n",
       "1   33.0     text  \n",
       "4    0.0     text  \n",
       "6    0.0     text  \n",
       "7    0.0     text  \n",
       "8   46.0     text  "
      ]
     },
     "execution_count": 17,
     "metadata": {},
     "output_type": "execute_result"
    }
   ],
   "source": [
    "raw_clean.head()"
   ]
  },
  {
   "cell_type": "code",
   "execution_count": 18,
   "metadata": {},
   "outputs": [],
   "source": [
    "raw_clean[['label','text']].to_csv('../jsons/pre_processed.csv',index=False)"
   ]
  },
  {
   "cell_type": "code",
   "execution_count": 19,
   "metadata": {},
   "outputs": [],
   "source": [
    "pd.Series(stopword_list).to_csv('../jsons/stopwords.csv',index=False)"
   ]
  }
 ],
 "metadata": {
  "kernelspec": {
   "display_name": "Python 3",
   "language": "python",
   "name": "python3"
  },
  "language_info": {
   "codemirror_mode": {
    "name": "ipython",
    "version": 3
   },
   "file_extension": ".py",
   "mimetype": "text/x-python",
   "name": "python",
   "nbconvert_exporter": "python",
   "pygments_lexer": "ipython3",
   "version": "3.7.0"
  }
 },
 "nbformat": 4,
 "nbformat_minor": 2
}
