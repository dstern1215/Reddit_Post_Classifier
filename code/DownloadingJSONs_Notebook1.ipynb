{
 "cells": [
  {
   "cell_type": "code",
   "execution_count": 4,
   "metadata": {},
   "outputs": [],
   "source": [
    "## imports\n",
    "import json\n",
    "import pandas as pd\n",
    "import os\n",
    "import requests\n",
    "from datetime import datetime\n",
    "import time"
   ]
  },
  {
   "cell_type": "markdown",
   "metadata": {},
   "source": [
    "Below is a function that will pull either Comments or Posts/\"submissions\" from a specified Reddit, over a designated time period.\n",
    "\n",
    "The function is heavily inspired by the [following post](https://www.reddit.com/r/pushshift/comments/89pxra/pushshift_api_with_large_amounts_of_data), but altered to be able to save the individual .json files to disc."
   ]
  },
  {
   "cell_type": "code",
   "execution_count": 2,
   "metadata": {},
   "outputs": [],
   "source": [
    "def getPushshiftData(sub=None, before=None, after=None, ids=None,getComments=False, getSubmissions=False):\n",
    "    suffix=''\n",
    "    norm_before=''\n",
    "        \n",
    "    if getComments:\n",
    "        searchType='comment'\n",
    "        \n",
    "    if getSubmissions:\n",
    "        searchType='submission'\n",
    "        \n",
    "    if (before is not None):\n",
    "        suffix += '&before='+str(before)\n",
    "        norm_before += str(datetime.utcfromtimestamp(int(before)).strftime('%Y%m%d'))\n",
    "    if (after is not None):\n",
    "        suffix += '&after='+str(after)\n",
    "    if (sub is not None):\n",
    "        suffix += '&subreddit='+sub\n",
    "    if (ids is not None):\n",
    "        suffix += '&ids='+','.join(ids)\n",
    "\n",
    "    url = 'https://api.pushshift.io/reddit/search/'+searchType+'?sort=desc&size=1000'+suffix\n",
    "    \n",
    "    print('loading '+url)\n",
    "    r = requests.get(url)\n",
    "    data = json.loads(r.content)\n",
    "    \n",
    "    with open(f'../jsons/{searchType}_{norm_before}_{after}_{sub}.json', 'w') as outfile:\n",
    "        json.dump(data, outfile)\n",
    "    \n",
    "    if len(data['data']) > 0:\n",
    "        prev_end_date = data['data'][-1]['created_utc']\n",
    "    else:\n",
    "        prev_end_date = None\n",
    "    return (data, prev_end_date)"
   ]
  },
  {
   "cell_type": "markdown",
   "metadata": {},
   "source": [
    "Downloading all comments after 1/1/18 (unix timestamp: 1514764800) for r/TrueFilm"
   ]
  },
  {
   "cell_type": "code",
   "execution_count": 12,
   "metadata": {},
   "outputs": [
    {
     "name": "stdout",
     "output_type": "stream",
     "text": [
      "loading https://api.pushshift.io/reddit/search/comment?sort=desc&size=1000&after=1514764800&subreddit=TrueFilm\n",
      "loading https://api.pushshift.io/reddit/search/comment?sort=desc&size=1000&before=1544490685&after=1514764800&subreddit=TrueFilm\n",
      "loading https://api.pushshift.io/reddit/search/comment?sort=desc&size=1000&before=1544166181&after=1514764800&subreddit=TrueFilm\n",
      "loading https://api.pushshift.io/reddit/search/comment?sort=desc&size=1000&before=1543867550&after=1514764800&subreddit=TrueFilm\n",
      "loading https://api.pushshift.io/reddit/search/comment?sort=desc&size=1000&before=1543526126&after=1514764800&subreddit=TrueFilm\n",
      "loading https://api.pushshift.io/reddit/search/comment?sort=desc&size=1000&before=1543071841&after=1514764800&subreddit=TrueFilm\n",
      "loading https://api.pushshift.io/reddit/search/comment?sort=desc&size=1000&before=1542509260&after=1514764800&subreddit=TrueFilm\n",
      "loading https://api.pushshift.io/reddit/search/comment?sort=desc&size=1000&before=1542119017&after=1514764800&subreddit=TrueFilm\n",
      "loading https://api.pushshift.io/reddit/search/comment?sort=desc&size=1000&before=1541906340&after=1514764800&subreddit=TrueFilm\n",
      "loading https://api.pushshift.io/reddit/search/comment?sort=desc&size=1000&before=1541421199&after=1514764800&subreddit=TrueFilm\n",
      "loading https://api.pushshift.io/reddit/search/comment?sort=desc&size=1000&before=1540833670&after=1514764800&subreddit=TrueFilm\n",
      "loading https://api.pushshift.io/reddit/search/comment?sort=desc&size=1000&before=1540261785&after=1514764800&subreddit=TrueFilm\n",
      "loading https://api.pushshift.io/reddit/search/comment?sort=desc&size=1000&before=1539753038&after=1514764800&subreddit=TrueFilm\n",
      "loading https://api.pushshift.io/reddit/search/comment?sort=desc&size=1000&before=1539277779&after=1514764800&subreddit=TrueFilm\n",
      "loading https://api.pushshift.io/reddit/search/comment?sort=desc&size=1000&before=1538842776&after=1514764800&subreddit=TrueFilm\n",
      "loading https://api.pushshift.io/reddit/search/comment?sort=desc&size=1000&before=1538250313&after=1514764800&subreddit=TrueFilm\n",
      "loading https://api.pushshift.io/reddit/search/comment?sort=desc&size=1000&before=1537909475&after=1514764800&subreddit=TrueFilm\n",
      "loading https://api.pushshift.io/reddit/search/comment?sort=desc&size=1000&before=1537372329&after=1514764800&subreddit=TrueFilm\n",
      "loading https://api.pushshift.io/reddit/search/comment?sort=desc&size=1000&before=1537065771&after=1514764800&subreddit=TrueFilm\n",
      "loading https://api.pushshift.io/reddit/search/comment?sort=desc&size=1000&before=1536566292&after=1514764800&subreddit=TrueFilm\n",
      "loading https://api.pushshift.io/reddit/search/comment?sort=desc&size=1000&before=1535994431&after=1514764800&subreddit=TrueFilm\n",
      "loading https://api.pushshift.io/reddit/search/comment?sort=desc&size=1000&before=1535511886&after=1514764800&subreddit=TrueFilm\n",
      "loading https://api.pushshift.io/reddit/search/comment?sort=desc&size=1000&before=1534950100&after=1514764800&subreddit=TrueFilm\n",
      "loading https://api.pushshift.io/reddit/search/comment?sort=desc&size=1000&before=1534457059&after=1514764800&subreddit=TrueFilm\n",
      "loading https://api.pushshift.io/reddit/search/comment?sort=desc&size=1000&before=1534041901&after=1514764800&subreddit=TrueFilm\n",
      "loading https://api.pushshift.io/reddit/search/comment?sort=desc&size=1000&before=1533699600&after=1514764800&subreddit=TrueFilm\n",
      "loading https://api.pushshift.io/reddit/search/comment?sort=desc&size=1000&before=1533220071&after=1514764800&subreddit=TrueFilm\n",
      "loading https://api.pushshift.io/reddit/search/comment?sort=desc&size=1000&before=1532677236&after=1514764800&subreddit=TrueFilm\n",
      "loading https://api.pushshift.io/reddit/search/comment?sort=desc&size=1000&before=1532179638&after=1514764800&subreddit=TrueFilm\n",
      "loading https://api.pushshift.io/reddit/search/comment?sort=desc&size=1000&before=1531741624&after=1514764800&subreddit=TrueFilm\n",
      "loading https://api.pushshift.io/reddit/search/comment?sort=desc&size=1000&before=1531090572&after=1514764800&subreddit=TrueFilm\n",
      "loading https://api.pushshift.io/reddit/search/comment?sort=desc&size=1000&before=1530701814&after=1514764800&subreddit=TrueFilm\n",
      "loading https://api.pushshift.io/reddit/search/comment?sort=desc&size=1000&before=1530128476&after=1514764800&subreddit=TrueFilm\n",
      "loading https://api.pushshift.io/reddit/search/comment?sort=desc&size=1000&before=1529737780&after=1514764800&subreddit=TrueFilm\n",
      "loading https://api.pushshift.io/reddit/search/comment?sort=desc&size=1000&before=1529276462&after=1514764800&subreddit=TrueFilm\n",
      "loading https://api.pushshift.io/reddit/search/comment?sort=desc&size=1000&before=1528868032&after=1514764800&subreddit=TrueFilm\n",
      "loading https://api.pushshift.io/reddit/search/comment?sort=desc&size=1000&before=1528473422&after=1514764800&subreddit=TrueFilm\n",
      "loading https://api.pushshift.io/reddit/search/comment?sort=desc&size=1000&before=1527825793&after=1514764800&subreddit=TrueFilm\n",
      "loading https://api.pushshift.io/reddit/search/comment?sort=desc&size=1000&before=1527266164&after=1514764800&subreddit=TrueFilm\n",
      "loading https://api.pushshift.io/reddit/search/comment?sort=desc&size=1000&before=1526681034&after=1514764800&subreddit=TrueFilm\n",
      "loading https://api.pushshift.io/reddit/search/comment?sort=desc&size=1000&before=1526073976&after=1514764800&subreddit=TrueFilm\n",
      "loading https://api.pushshift.io/reddit/search/comment?sort=desc&size=1000&before=1525543162&after=1514764800&subreddit=TrueFilm\n",
      "loading https://api.pushshift.io/reddit/search/comment?sort=desc&size=1000&before=1525217351&after=1514764800&subreddit=TrueFilm\n",
      "loading https://api.pushshift.io/reddit/search/comment?sort=desc&size=1000&before=1525023040&after=1514764800&subreddit=TrueFilm\n",
      "loading https://api.pushshift.io/reddit/search/comment?sort=desc&size=1000&before=1524615449&after=1514764800&subreddit=TrueFilm\n",
      "loading https://api.pushshift.io/reddit/search/comment?sort=desc&size=1000&before=1524157457&after=1514764800&subreddit=TrueFilm\n",
      "loading https://api.pushshift.io/reddit/search/comment?sort=desc&size=1000&before=1523863284&after=1514764800&subreddit=TrueFilm\n",
      "loading https://api.pushshift.io/reddit/search/comment?sort=desc&size=1000&before=1523470963&after=1514764800&subreddit=TrueFilm\n",
      "loading https://api.pushshift.io/reddit/search/comment?sort=desc&size=1000&before=1523137470&after=1514764800&subreddit=TrueFilm\n",
      "loading https://api.pushshift.io/reddit/search/comment?sort=desc&size=1000&before=1522657575&after=1514764800&subreddit=TrueFilm\n",
      "loading https://api.pushshift.io/reddit/search/comment?sort=desc&size=1000&before=1522096304&after=1514764800&subreddit=TrueFilm\n",
      "loading https://api.pushshift.io/reddit/search/comment?sort=desc&size=1000&before=1521757585&after=1514764800&subreddit=TrueFilm\n",
      "loading https://api.pushshift.io/reddit/search/comment?sort=desc&size=1000&before=1521247872&after=1514764800&subreddit=TrueFilm\n",
      "loading https://api.pushshift.io/reddit/search/comment?sort=desc&size=1000&before=1520760709&after=1514764800&subreddit=TrueFilm\n",
      "loading https://api.pushshift.io/reddit/search/comment?sort=desc&size=1000&before=1520280362&after=1514764800&subreddit=TrueFilm\n",
      "loading https://api.pushshift.io/reddit/search/comment?sort=desc&size=1000&before=1519947781&after=1514764800&subreddit=TrueFilm\n",
      "loading https://api.pushshift.io/reddit/search/comment?sort=desc&size=1000&before=1519485128&after=1514764800&subreddit=TrueFilm\n",
      "loading https://api.pushshift.io/reddit/search/comment?sort=desc&size=1000&before=1519024841&after=1514764800&subreddit=TrueFilm\n",
      "loading https://api.pushshift.io/reddit/search/comment?sort=desc&size=1000&before=1518499328&after=1514764800&subreddit=TrueFilm\n",
      "loading https://api.pushshift.io/reddit/search/comment?sort=desc&size=1000&before=1518186887&after=1514764800&subreddit=TrueFilm\n",
      "loading https://api.pushshift.io/reddit/search/comment?sort=desc&size=1000&before=1517670580&after=1514764800&subreddit=TrueFilm\n",
      "loading https://api.pushshift.io/reddit/search/comment?sort=desc&size=1000&before=1516850644&after=1514764800&subreddit=TrueFilm\n",
      "loading https://api.pushshift.io/reddit/search/comment?sort=desc&size=1000&before=1516509935&after=1514764800&subreddit=TrueFilm\n",
      "loading https://api.pushshift.io/reddit/search/comment?sort=desc&size=1000&before=1516018608&after=1514764800&subreddit=TrueFilm\n"
     ]
    },
    {
     "name": "stdout",
     "output_type": "stream",
     "text": [
      "loading https://api.pushshift.io/reddit/search/comment?sort=desc&size=1000&before=1515309678&after=1514764800&subreddit=TrueFilm\n",
      "loading https://api.pushshift.io/reddit/search/comment?sort=desc&size=1000&before=1514909924&after=1514764800&subreddit=TrueFilm\n",
      "loading https://api.pushshift.io/reddit/search/comment?sort=desc&size=1000&before=1514764838&after=1514764800&subreddit=TrueFilm\n"
     ]
    }
   ],
   "source": [
    "sub='TrueFilm'\n",
    "(submissions_tmp, prev_end_date) = getPushshiftData(sub=sub, after='1514764800',getComments=True)\n",
    "submissions = submissions_tmp['data']\n",
    "while prev_end_date is not None:\n",
    "    (submissions_tmp, prev_end_date) = getPushshiftData(sub=sub, before=prev_end_date-1, after='1514764800',getComments=True)\n",
    "    if prev_end_date is not None:\n",
    "        submissions.extend(submissions_tmp['data'])"
   ]
  },
  {
   "cell_type": "markdown",
   "metadata": {},
   "source": [
    "Downloading all posts/submissions after 1/1/18 (unix timestamp: 1514764800) for r/TrueFilm"
   ]
  },
  {
   "cell_type": "code",
   "execution_count": 13,
   "metadata": {},
   "outputs": [
    {
     "name": "stdout",
     "output_type": "stream",
     "text": [
      "loading https://api.pushshift.io/reddit/search/submission?sort=desc&size=1000&after=1514764800&subreddit=TrueFilm\n",
      "loading https://api.pushshift.io/reddit/search/submission?sort=desc&size=1000&before=1538115120&after=1514764800&subreddit=TrueFilm\n",
      "loading https://api.pushshift.io/reddit/search/submission?sort=desc&size=1000&before=1531089562&after=1514764800&subreddit=TrueFilm\n",
      "loading https://api.pushshift.io/reddit/search/submission?sort=desc&size=1000&before=1523302110&after=1514764800&subreddit=TrueFilm\n",
      "loading https://api.pushshift.io/reddit/search/submission?sort=desc&size=1000&before=1516057152&after=1514764800&subreddit=TrueFilm\n",
      "loading https://api.pushshift.io/reddit/search/submission?sort=desc&size=1000&before=1514771886&after=1514764800&subreddit=TrueFilm\n"
     ]
    }
   ],
   "source": [
    "sub='TrueFilm'\n",
    "(submissions_tmp, prev_end_date) = getPushshiftData(sub=sub, after='1514764800',getSubmissions=True)\n",
    "submissions = submissions_tmp['data']\n",
    "while prev_end_date is not None:\n",
    "    (submissions_tmp, prev_end_date) = getPushshiftData(sub=sub, before=prev_end_date-1, after='1514764800',getSubmissions=True)\n",
    "    if prev_end_date is not None:\n",
    "        submissions.extend(submissions_tmp['data'])"
   ]
  },
  {
   "cell_type": "markdown",
   "metadata": {},
   "source": [
    "Downloading all comments after 1/1/18 (unix timestamp: 1514764800) for r/flicks"
   ]
  },
  {
   "cell_type": "code",
   "execution_count": 14,
   "metadata": {},
   "outputs": [
    {
     "name": "stdout",
     "output_type": "stream",
     "text": [
      "loading https://api.pushshift.io/reddit/search/comment?sort=desc&size=1000&after=1514764800&subreddit=Flicks\n",
      "loading https://api.pushshift.io/reddit/search/comment?sort=desc&size=1000&before=1543603770&after=1514764800&subreddit=Flicks\n",
      "loading https://api.pushshift.io/reddit/search/comment?sort=desc&size=1000&before=1542295359&after=1514764800&subreddit=Flicks\n",
      "loading https://api.pushshift.io/reddit/search/comment?sort=desc&size=1000&before=1541036336&after=1514764800&subreddit=Flicks\n",
      "loading https://api.pushshift.io/reddit/search/comment?sort=desc&size=1000&before=1539208429&after=1514764800&subreddit=Flicks\n",
      "loading https://api.pushshift.io/reddit/search/comment?sort=desc&size=1000&before=1537930762&after=1514764800&subreddit=Flicks\n",
      "loading https://api.pushshift.io/reddit/search/comment?sort=desc&size=1000&before=1537121171&after=1514764800&subreddit=Flicks\n",
      "loading https://api.pushshift.io/reddit/search/comment?sort=desc&size=1000&before=1536227393&after=1514764800&subreddit=Flicks\n",
      "loading https://api.pushshift.io/reddit/search/comment?sort=desc&size=1000&before=1535221769&after=1514764800&subreddit=Flicks\n",
      "loading https://api.pushshift.io/reddit/search/comment?sort=desc&size=1000&before=1533951557&after=1514764800&subreddit=Flicks\n",
      "loading https://api.pushshift.io/reddit/search/comment?sort=desc&size=1000&before=1532388914&after=1514764800&subreddit=Flicks\n",
      "loading https://api.pushshift.io/reddit/search/comment?sort=desc&size=1000&before=1531164201&after=1514764800&subreddit=Flicks\n",
      "loading https://api.pushshift.io/reddit/search/comment?sort=desc&size=1000&before=1529916824&after=1514764800&subreddit=Flicks\n",
      "loading https://api.pushshift.io/reddit/search/comment?sort=desc&size=1000&before=1528666236&after=1514764800&subreddit=Flicks\n",
      "loading https://api.pushshift.io/reddit/search/comment?sort=desc&size=1000&before=1527485804&after=1514764800&subreddit=Flicks\n",
      "loading https://api.pushshift.io/reddit/search/comment?sort=desc&size=1000&before=1526374097&after=1514764800&subreddit=Flicks\n",
      "loading https://api.pushshift.io/reddit/search/comment?sort=desc&size=1000&before=1525194284&after=1514764800&subreddit=Flicks\n",
      "loading https://api.pushshift.io/reddit/search/comment?sort=desc&size=1000&before=1523927199&after=1514764800&subreddit=Flicks\n",
      "loading https://api.pushshift.io/reddit/search/comment?sort=desc&size=1000&before=1522478468&after=1514764800&subreddit=Flicks\n",
      "loading https://api.pushshift.io/reddit/search/comment?sort=desc&size=1000&before=1520616037&after=1514764800&subreddit=Flicks\n",
      "loading https://api.pushshift.io/reddit/search/comment?sort=desc&size=1000&before=1518711455&after=1514764800&subreddit=Flicks\n",
      "loading https://api.pushshift.io/reddit/search/comment?sort=desc&size=1000&before=1517199781&after=1514764800&subreddit=Flicks\n",
      "loading https://api.pushshift.io/reddit/search/comment?sort=desc&size=1000&before=1515800723&after=1514764800&subreddit=Flicks\n",
      "loading https://api.pushshift.io/reddit/search/comment?sort=desc&size=1000&before=1514766570&after=1514764800&subreddit=Flicks\n"
     ]
    }
   ],
   "source": [
    "sub='Flicks'\n",
    "(submissions_tmp, prev_end_date) = getPushshiftData(sub=sub, after='1514764800',getComments=True)\n",
    "submissions = submissions_tmp['data']\n",
    "while prev_end_date is not None:\n",
    "    (submissions_tmp, prev_end_date) = getPushshiftData(sub=sub, before=prev_end_date-1, after='1514764800',getComments=True)\n",
    "    if prev_end_date is not None:\n",
    "        submissions.extend(submissions_tmp['data'])"
   ]
  },
  {
   "cell_type": "markdown",
   "metadata": {},
   "source": [
    "Downloading all posts after 1/1/18 (unix timestamp: 1514764800) for r/flicks"
   ]
  },
  {
   "cell_type": "code",
   "execution_count": 5,
   "metadata": {},
   "outputs": [
    {
     "name": "stdout",
     "output_type": "stream",
     "text": [
      "loading https://api.pushshift.io/reddit/search/comment?sort=desc&size=1000&after=1514764800&subreddit=Flicks\n",
      "loading https://api.pushshift.io/reddit/search/comment?sort=desc&size=1000&before=1543611024&after=1514764800&subreddit=Flicks\n",
      "loading https://api.pushshift.io/reddit/search/comment?sort=desc&size=1000&before=1542301167&after=1514764800&subreddit=Flicks\n",
      "loading https://api.pushshift.io/reddit/search/comment?sort=desc&size=1000&before=1541107695&after=1514764800&subreddit=Flicks\n",
      "loading https://api.pushshift.io/reddit/search/comment?sort=desc&size=1000&before=1539262700&after=1514764800&subreddit=Flicks\n",
      "loading https://api.pushshift.io/reddit/search/comment?sort=desc&size=1000&before=1537950824&after=1514764800&subreddit=Flicks\n",
      "loading https://api.pushshift.io/reddit/search/comment?sort=desc&size=1000&before=1537134906&after=1514764800&subreddit=Flicks\n",
      "loading https://api.pushshift.io/reddit/search/comment?sort=desc&size=1000&before=1536254749&after=1514764800&subreddit=Flicks\n",
      "loading https://api.pushshift.io/reddit/search/comment?sort=desc&size=1000&before=1535234318&after=1514764800&subreddit=Flicks\n",
      "loading https://api.pushshift.io/reddit/search/comment?sort=desc&size=1000&before=1533992193&after=1514764800&subreddit=Flicks\n",
      "loading https://api.pushshift.io/reddit/search/comment?sort=desc&size=1000&before=1532397431&after=1514764800&subreddit=Flicks\n",
      "loading https://api.pushshift.io/reddit/search/comment?sort=desc&size=1000&before=1531179864&after=1514764800&subreddit=Flicks\n",
      "loading https://api.pushshift.io/reddit/search/comment?sort=desc&size=1000&before=1529943685&after=1514764800&subreddit=Flicks\n",
      "loading https://api.pushshift.io/reddit/search/comment?sort=desc&size=1000&before=1528676045&after=1514764800&subreddit=Flicks\n",
      "loading https://api.pushshift.io/reddit/search/comment?sort=desc&size=1000&before=1527520238&after=1514764800&subreddit=Flicks\n",
      "loading https://api.pushshift.io/reddit/search/comment?sort=desc&size=1000&before=1526375818&after=1514764800&subreddit=Flicks\n",
      "loading https://api.pushshift.io/reddit/search/comment?sort=desc&size=1000&before=1525197956&after=1514764800&subreddit=Flicks\n",
      "loading https://api.pushshift.io/reddit/search/comment?sort=desc&size=1000&before=1523946090&after=1514764800&subreddit=Flicks\n",
      "loading https://api.pushshift.io/reddit/search/comment?sort=desc&size=1000&before=1522506661&after=1514764800&subreddit=Flicks\n",
      "loading https://api.pushshift.io/reddit/search/comment?sort=desc&size=1000&before=1520628045&after=1514764800&subreddit=Flicks\n",
      "loading https://api.pushshift.io/reddit/search/comment?sort=desc&size=1000&before=1518729028&after=1514764800&subreddit=Flicks\n",
      "loading https://api.pushshift.io/reddit/search/comment?sort=desc&size=1000&before=1517245599&after=1514764800&subreddit=Flicks\n",
      "loading https://api.pushshift.io/reddit/search/comment?sort=desc&size=1000&before=1515835260&after=1514764800&subreddit=Flicks\n",
      "loading https://api.pushshift.io/reddit/search/comment?sort=desc&size=1000&before=1514766570&after=1514764800&subreddit=Flicks\n"
     ]
    }
   ],
   "source": [
    "sub='Flicks'\n",
    "(submissions_tmp, prev_end_date) = getPushshiftData(sub=sub, after='1514764800',getComments=True)\n",
    "submissions = submissions_tmp['data']\n",
    "while prev_end_date is not None:\n",
    "    (submissions_tmp, prev_end_date) = getPushshiftData(sub=sub, before=prev_end_date-1, after='1514764800',getComments=True)\n",
    "    if prev_end_date is not None:\n",
    "        submissions.extend(submissions_tmp['data'])"
   ]
  }
 ],
 "metadata": {
  "kernelspec": {
   "display_name": "Python 3",
   "language": "python",
   "name": "python3"
  },
  "language_info": {
   "codemirror_mode": {
    "name": "ipython",
    "version": 3
   },
   "file_extension": ".py",
   "mimetype": "text/x-python",
   "name": "python",
   "nbconvert_exporter": "python",
   "pygments_lexer": "ipython3",
   "version": "3.7.0"
  }
 },
 "nbformat": 4,
 "nbformat_minor": 2
}
