{
 "cells": [
  {
   "cell_type": "code",
   "execution_count": 11,
   "metadata": {},
   "outputs": [],
   "source": [
    "import os, json\n",
    "import pandas as pd\n",
    "import glob\n",
    "import numpy as np"
   ]
  },
  {
   "cell_type": "markdown",
   "metadata": {},
   "source": [
    "When saving the json files to disc, I added specific strings to the file names, in order to aid in the merging process. Each filename has either \"submission\" or \"comment\" in the name (depending on the type of post), and either \"Flicks\" or \"TrueFilm\", depending on the subreddit name."
   ]
  },
  {
   "cell_type": "code",
   "execution_count": 12,
   "metadata": {},
   "outputs": [],
   "source": [
    "path = \"../jsons/\"\n",
    "truefilm_jsons = glob.glob(path + \"/*TrueFilm.json\")\n",
    "truefilm_submissions =  [each for each in truefilm_jsons if \"submission\" in each]\n",
    "truefilm_comments =  [each for each in truefilm_jsons if \"comment\" in each]"
   ]
  },
  {
   "cell_type": "code",
   "execution_count": 13,
   "metadata": {},
   "outputs": [],
   "source": [
    "submission_list = []\n",
    "comment_list = []"
   ]
  },
  {
   "cell_type": "code",
   "execution_count": 14,
   "metadata": {},
   "outputs": [],
   "source": [
    "for each in truefilm_submissions:\n",
    "    with open(each, 'r') as file:\n",
    "        posts = json.load(file) \n",
    "    \n",
    "    #for each post in the json file, collect the pertinent information from the post and append to a list\n",
    "    \n",
    "    for each in posts['data']:\n",
    "        submission_keys = ['author', 'created_utc', 'id', 'link_id', 'selftext', 'num_comments', 'score','title','permalink']\n",
    "        post = {k:v for k,v in each.items() if k in submission_keys}\n",
    "        submission_list.append(post)"
   ]
  },
  {
   "cell_type": "code",
   "execution_count": 15,
   "metadata": {},
   "outputs": [],
   "source": [
    "for each in truefilm_comments:\n",
    "    with open(each, 'r') as file:\n",
    "        posts = json.load(file) \n",
    "    \n",
    "    #for each post in the json file, collect the pertinent information from the post and append to a list\n",
    "    \n",
    "    for each in posts['data']:\n",
    "        comment_keys = ['author','body','created_utc','link_id','parent_id','score','permalink']\n",
    "        post = {k:v for k,v in each.items() if k in comment_keys}\n",
    "        comment_list.append(post)"
   ]
  },
  {
   "cell_type": "code",
   "execution_count": 16,
   "metadata": {},
   "outputs": [],
   "source": [
    "subs_df = pd.DataFrame(submission_list)\n",
    "comm_df = pd.DataFrame(comment_list)"
   ]
  },
  {
   "cell_type": "code",
   "execution_count": 17,
   "metadata": {},
   "outputs": [],
   "source": [
    "subs_df['date'] = pd.to_datetime(subs_df['created_utc'], unit='s')\n",
    "comm_df['date'] = pd.to_datetime(comm_df['created_utc'], unit='s')\n",
    "\n",
    "subs_df['type'] = 'submission'\n",
    "comm_df['type'] = 'comment'\n",
    "subs_df['selftext'].fillna('No_Post',inplace=True)"
   ]
  },
  {
   "cell_type": "code",
   "execution_count": 18,
   "metadata": {},
   "outputs": [],
   "source": [
    "both = subs_df.merge(comm_df,how='outer')"
   ]
  },
  {
   "cell_type": "code",
   "execution_count": 21,
   "metadata": {},
   "outputs": [],
   "source": [
    "both.to_csv('../jsons/truefilm.csv',index=False)"
   ]
  },
  {
   "cell_type": "code",
   "execution_count": 20,
   "metadata": {},
   "outputs": [
    {
     "data": {
      "text/html": [
       "<div>\n",
       "<style scoped>\n",
       "    .dataframe tbody tr th:only-of-type {\n",
       "        vertical-align: middle;\n",
       "    }\n",
       "\n",
       "    .dataframe tbody tr th {\n",
       "        vertical-align: top;\n",
       "    }\n",
       "\n",
       "    .dataframe thead th {\n",
       "        text-align: right;\n",
       "    }\n",
       "</style>\n",
       "<table border=\"1\" class=\"dataframe\">\n",
       "  <thead>\n",
       "    <tr style=\"text-align: right;\">\n",
       "      <th></th>\n",
       "      <th>author</th>\n",
       "      <th>created_utc</th>\n",
       "      <th>id</th>\n",
       "      <th>num_comments</th>\n",
       "      <th>permalink</th>\n",
       "      <th>score</th>\n",
       "      <th>selftext</th>\n",
       "      <th>title</th>\n",
       "      <th>date</th>\n",
       "      <th>type</th>\n",
       "      <th>body</th>\n",
       "      <th>link_id</th>\n",
       "      <th>parent_id</th>\n",
       "    </tr>\n",
       "  </thead>\n",
       "  <tbody>\n",
       "    <tr>\n",
       "      <th>0</th>\n",
       "      <td>trollhistoryfilms</td>\n",
       "      <td>1516052523</td>\n",
       "      <td>7qn5pq</td>\n",
       "      <td>0.0</td>\n",
       "      <td>/r/TrueFilm/comments/7qn5pq/the_longest_heist_...</td>\n",
       "      <td>1</td>\n",
       "      <td>[removed]</td>\n",
       "      <td>The Longest Heist (2001) - Hackman vs. Norton ...</td>\n",
       "      <td>2018-01-15 21:42:03</td>\n",
       "      <td>submission</td>\n",
       "      <td>NaN</td>\n",
       "      <td>NaN</td>\n",
       "      <td>NaN</td>\n",
       "    </tr>\n",
       "    <tr>\n",
       "      <th>1</th>\n",
       "      <td>tastar1</td>\n",
       "      <td>1516044585</td>\n",
       "      <td>7qm44e</td>\n",
       "      <td>4.0</td>\n",
       "      <td>/r/TrueFilm/comments/7qm44e/on_the_waterfront_...</td>\n",
       "      <td>33</td>\n",
       "      <td>I just watched On The Waterfront last night an...</td>\n",
       "      <td>On The Waterfront and the symbols of being tra...</td>\n",
       "      <td>2018-01-15 19:29:45</td>\n",
       "      <td>submission</td>\n",
       "      <td>NaN</td>\n",
       "      <td>NaN</td>\n",
       "      <td>NaN</td>\n",
       "    </tr>\n",
       "    <tr>\n",
       "      <th>2</th>\n",
       "      <td>[deleted]</td>\n",
       "      <td>1516039311</td>\n",
       "      <td>7qlg2k</td>\n",
       "      <td>12.0</td>\n",
       "      <td>/r/TrueFilm/comments/7qlg2k/the_ridiculousness...</td>\n",
       "      <td>0</td>\n",
       "      <td>[deleted]</td>\n",
       "      <td>The ridiculousness of Brad Anderson’s Beirut (...</td>\n",
       "      <td>2018-01-15 18:01:51</td>\n",
       "      <td>submission</td>\n",
       "      <td>NaN</td>\n",
       "      <td>NaN</td>\n",
       "      <td>NaN</td>\n",
       "    </tr>\n",
       "    <tr>\n",
       "      <th>3</th>\n",
       "      <td>[deleted]</td>\n",
       "      <td>1516035532</td>\n",
       "      <td>7qkz16</td>\n",
       "      <td>0.0</td>\n",
       "      <td>/r/TrueFilm/comments/7qkz16/phantom_thread_70m...</td>\n",
       "      <td>1</td>\n",
       "      <td>No_Post</td>\n",
       "      <td>Phantom Thread 70mm presentation</td>\n",
       "      <td>2018-01-15 16:58:52</td>\n",
       "      <td>submission</td>\n",
       "      <td>NaN</td>\n",
       "      <td>NaN</td>\n",
       "      <td>NaN</td>\n",
       "    </tr>\n",
       "    <tr>\n",
       "      <th>4</th>\n",
       "      <td>newtothelyte</td>\n",
       "      <td>1516031246</td>\n",
       "      <td>7qkh46</td>\n",
       "      <td>4.0</td>\n",
       "      <td>/r/TrueFilm/comments/7qkh46/need_help_interpre...</td>\n",
       "      <td>0</td>\n",
       "      <td>I seem to have a pretty good grasp of what's h...</td>\n",
       "      <td>Need help interpreting A Ghost Story</td>\n",
       "      <td>2018-01-15 15:47:26</td>\n",
       "      <td>submission</td>\n",
       "      <td>NaN</td>\n",
       "      <td>NaN</td>\n",
       "      <td>NaN</td>\n",
       "    </tr>\n",
       "  </tbody>\n",
       "</table>\n",
       "</div>"
      ],
      "text/plain": [
       "              author  created_utc      id  num_comments  \\\n",
       "0  trollhistoryfilms   1516052523  7qn5pq           0.0   \n",
       "1            tastar1   1516044585  7qm44e           4.0   \n",
       "2          [deleted]   1516039311  7qlg2k          12.0   \n",
       "3          [deleted]   1516035532  7qkz16           0.0   \n",
       "4       newtothelyte   1516031246  7qkh46           4.0   \n",
       "\n",
       "                                           permalink  score  \\\n",
       "0  /r/TrueFilm/comments/7qn5pq/the_longest_heist_...      1   \n",
       "1  /r/TrueFilm/comments/7qm44e/on_the_waterfront_...     33   \n",
       "2  /r/TrueFilm/comments/7qlg2k/the_ridiculousness...      0   \n",
       "3  /r/TrueFilm/comments/7qkz16/phantom_thread_70m...      1   \n",
       "4  /r/TrueFilm/comments/7qkh46/need_help_interpre...      0   \n",
       "\n",
       "                                            selftext  \\\n",
       "0                                          [removed]   \n",
       "1  I just watched On The Waterfront last night an...   \n",
       "2                                          [deleted]   \n",
       "3                                            No_Post   \n",
       "4  I seem to have a pretty good grasp of what's h...   \n",
       "\n",
       "                                               title                date  \\\n",
       "0  The Longest Heist (2001) - Hackman vs. Norton ... 2018-01-15 21:42:03   \n",
       "1  On The Waterfront and the symbols of being tra... 2018-01-15 19:29:45   \n",
       "2  The ridiculousness of Brad Anderson’s Beirut (... 2018-01-15 18:01:51   \n",
       "3                   Phantom Thread 70mm presentation 2018-01-15 16:58:52   \n",
       "4               Need help interpreting A Ghost Story 2018-01-15 15:47:26   \n",
       "\n",
       "         type body link_id parent_id  \n",
       "0  submission  NaN     NaN       NaN  \n",
       "1  submission  NaN     NaN       NaN  \n",
       "2  submission  NaN     NaN       NaN  \n",
       "3  submission  NaN     NaN       NaN  \n",
       "4  submission  NaN     NaN       NaN  "
      ]
     },
     "execution_count": 20,
     "metadata": {},
     "output_type": "execute_result"
    }
   ],
   "source": [
    "both.head()"
   ]
  },
  {
   "cell_type": "code",
   "execution_count": null,
   "metadata": {},
   "outputs": [],
   "source": []
  }
 ],
 "metadata": {
  "kernelspec": {
   "display_name": "Python 3",
   "language": "python",
   "name": "python3"
  },
  "language_info": {
   "codemirror_mode": {
    "name": "ipython",
    "version": 3
   },
   "file_extension": ".py",
   "mimetype": "text/x-python",
   "name": "python",
   "nbconvert_exporter": "python",
   "pygments_lexer": "ipython3",
   "version": "3.7.0"
  }
 },
 "nbformat": 4,
 "nbformat_minor": 2
}
