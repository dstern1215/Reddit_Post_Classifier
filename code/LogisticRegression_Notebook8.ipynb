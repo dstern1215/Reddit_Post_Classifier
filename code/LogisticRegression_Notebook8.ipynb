{
 "cells": [
  {
   "cell_type": "code",
   "execution_count": 1,
   "metadata": {},
   "outputs": [
    {
     "name": "stderr",
     "output_type": "stream",
     "text": [
      "/Users/debrastern/anaconda3/lib/python3.7/site-packages/sklearn/ensemble/weight_boosting.py:29: DeprecationWarning: numpy.core.umath_tests is an internal NumPy module and should not be imported. It will be removed in a future NumPy release.\n",
      "  from numpy.core.umath_tests import inner1d\n"
     ]
    }
   ],
   "source": [
    "import pandas as pd\n",
    "from sklearn.feature_extraction.text import TfidfVectorizer\n",
    "from sklearn.model_selection import GridSearchCV, train_test_split, cross_val_score\n",
    "from sklearn.ensemble import RandomForestClassifier, ExtraTreesClassifier\n",
    "from sklearn.feature_extraction.text import CountVectorizer\n",
    "from sklearn.linear_model import LogisticRegression\n",
    "from sklearn.metrics import accuracy_score\n",
    "from sklearn.metrics import precision_score\n",
    "from sklearn.metrics import average_precision_score\n",
    "from sklearn.metrics import recall_score\n",
    "import numpy as np\n",
    "\n",
    "import matplotlib.pyplot as plt\n",
    "\n",
    "%matplotlib inline"
   ]
  },
  {
   "cell_type": "code",
   "execution_count": 2,
   "metadata": {},
   "outputs": [],
   "source": [
    "from sklearn.metrics import confusion_matrix\n",
    "from sklearn.metrics import classification_report"
   ]
  },
  {
   "cell_type": "code",
   "execution_count": 3,
   "metadata": {},
   "outputs": [],
   "source": [
    "from sklearn.metrics import roc_auc_score"
   ]
  },
  {
   "cell_type": "code",
   "execution_count": 4,
   "metadata": {},
   "outputs": [],
   "source": [
    "raw = pd.read_csv('../jsons/very_clean_data.csv')"
   ]
  },
  {
   "cell_type": "markdown",
   "metadata": {},
   "source": [
    "The first model that I will be fitting is a Logistic Regression. Compared to other classification models, Logistic Regression is relatively computationally inexpensive, and can result in very interpretable (and relevant) results. "
   ]
  },
  {
   "cell_type": "code",
   "execution_count": 5,
   "metadata": {},
   "outputs": [],
   "source": [
    "tfidf = TfidfVectorizer(stop_words='english', min_df=3, max_df=1.0,max_features=12000, ngram_range=(1,4))"
   ]
  },
  {
   "cell_type": "markdown",
   "metadata": {},
   "source": [
    "Before the fitting step can occur, I have to transform the data into a format that can be understood by the model.\n",
    "\n",
    "I will be using the TFIDF Vectorizer for this model, which transforms the dataset into a vector containing individual words as columns, with their \"Inverse Document Frequency\" as the values pertaining to each word/column.\n",
    "\n",
    "According to the SKLearn documentation, the TFIDF Vectorizer is equivalent to running CountVectorizer, followed by TFIDFTransformer."
   ]
  },
  {
   "cell_type": "code",
   "execution_count": 6,
   "metadata": {},
   "outputs": [],
   "source": [
    "X = raw['text']\n",
    "y = raw['target']"
   ]
  },
  {
   "cell_type": "code",
   "execution_count": 7,
   "metadata": {},
   "outputs": [],
   "source": [
    "X = tfidf.fit_transform(X)"
   ]
  },
  {
   "cell_type": "code",
   "execution_count": 8,
   "metadata": {},
   "outputs": [],
   "source": [
    "X = pd.SparseDataFrame(X, columns=tfidf.get_feature_names())\n",
    "X.fillna(0,inplace=True)"
   ]
  },
  {
   "cell_type": "code",
   "execution_count": 9,
   "metadata": {},
   "outputs": [],
   "source": [
    "X_train, X_test, y_train, y_test = train_test_split(X, y, random_state=42, stratify=y)"
   ]
  },
  {
   "cell_type": "code",
   "execution_count": 10,
   "metadata": {},
   "outputs": [
    {
     "data": {
      "text/plain": [
       "LogisticRegression(C=1.0, class_weight='balanced', dual=False,\n",
       "          fit_intercept=True, intercept_scaling=1, max_iter=100,\n",
       "          multi_class='ovr', n_jobs=1, penalty='l2', random_state=420,\n",
       "          solver='liblinear', tol=0.0001, verbose=0, warm_start=False)"
      ]
     },
     "execution_count": 10,
     "metadata": {},
     "output_type": "execute_result"
    }
   ],
   "source": [
    "lr = LogisticRegression(random_state=420,class_weight='balanced')\n",
    "lr.fit(X_train, y_train)"
   ]
  },
  {
   "cell_type": "code",
   "execution_count": 11,
   "metadata": {},
   "outputs": [],
   "source": [
    "lr_predict = lr.predict(X_test)"
   ]
  },
  {
   "cell_type": "markdown",
   "metadata": {},
   "source": [
    "Since we have unbalanced classes, I am going to use 'precision' as the prefered scoring metric. Precision is defined as \"the fraction of relevant instances among the retrieved instances.\" [source: wikipedia](https://en.wikipedia.org/wiki/Precision_and_recall \"wikipedia\")"
   ]
  },
  {
   "cell_type": "code",
   "execution_count": 12,
   "metadata": {},
   "outputs": [],
   "source": [
    "lr_cv_score = cross_val_score(lr, X, y, cv=5, scoring='precision')"
   ]
  },
  {
   "cell_type": "markdown",
   "metadata": {},
   "source": [
    "## Confusion Matrix\n",
    "\n",
    "\n",
    "\n",
    "Classification results are frequently displayed via a _confusion matrix_, which lists the True Positives, True Negatives, False Positives and False Negatives \n",
    "\n",
    "![Confusion Matrix Diagram](../images/confusionmatrix.jpg)\n",
    "\n",
    "For this use case, we will be looking to maximize the values in the bottom right corner (True Positives), while limiting the results of the top right corner (False Positives)."
   ]
  },
  {
   "cell_type": "code",
   "execution_count": 13,
   "metadata": {
    "scrolled": true
   },
   "outputs": [
    {
     "name": "stdout",
     "output_type": "stream",
     "text": [
      "=== Confusion Matrix ===\n",
      "[[ 3667  2035]\n",
      " [ 4914 10579]]\n",
      "\n",
      "\n",
      "=== Classification Report ===\n",
      "             precision    recall  f1-score   support\n",
      "\n",
      "          0       0.43      0.64      0.51      5702\n",
      "          1       0.84      0.68      0.75     15493\n",
      "\n",
      "avg / total       0.73      0.67      0.69     21195\n",
      "\n",
      "\n",
      "\n",
      "=== All Precision Scores ===\n",
      "[0.8085048  0.82412762 0.82330789 0.81836839 0.81374145]\n",
      "\n",
      "\n",
      "=== Mean Precision Score ===\n",
      "Mean Precision Score - Logistic Regression:  0.8176100305261119\n"
     ]
    }
   ],
   "source": [
    "print(\"=== Confusion Matrix ===\")\n",
    "print(confusion_matrix(y_test, lr_predict))\n",
    "print('\\n')\n",
    "print(\"=== Classification Report ===\")\n",
    "print(classification_report(y_test, lr_predict))\n",
    "print('\\n')\n",
    "print(\"=== All Precision Scores ===\")\n",
    "print(lr_cv_score)\n",
    "print('\\n')\n",
    "print(\"=== Mean Precision Score ===\")\n",
    "print(\"Mean Precision Score - Logistic Regression: \", lr_cv_score.mean())"
   ]
  },
  {
   "cell_type": "markdown",
   "metadata": {},
   "source": [
    "The mean, cross-validated precision score of 81.7 is not bad, as it is over the naive baseline.\n",
    "\n",
    "Since we are optimizing for precision score, however it is probably better to set a confidence threshold for the model to declare something as the positive class (rather than the default of .5). \n",
    "\n",
    "Let's take a look at how the various metrics change, as the positive class confidence interval is adjusted."
   ]
  },
  {
   "cell_type": "code",
   "execution_count": 16,
   "metadata": {},
   "outputs": [],
   "source": [
    "lr_probas = lr.predict_proba(X_test)"
   ]
  },
  {
   "cell_type": "markdown",
   "metadata": {},
   "source": [
    "### With the thresholds applied"
   ]
  },
  {
   "cell_type": "code",
   "execution_count": 15,
   "metadata": {},
   "outputs": [],
   "source": [
    "pred_proba_df = pd.DataFrame(lr_probas)"
   ]
  },
  {
   "cell_type": "code",
   "execution_count": 18,
   "metadata": {},
   "outputs": [],
   "source": [
    "precision_scores = []\n",
    "accuracy_scores = []\n",
    "auc_roc_scores = []\n",
    "avg_precision_scores = []\n",
    "recall_scores = []\n",
    "true_poses = []\n",
    "false_poses = []"
   ]
  },
  {
   "cell_type": "markdown",
   "metadata": {},
   "source": [
    "Plot out how the model's scores change based on threshold level\n",
    "\n",
    "Code inspired from: https://stackoverflow.com/questions/28716241/controlling-the-threshold-in-logistic-regression-in-scikit-learn/28724763"
   ]
  },
  {
   "cell_type": "code",
   "execution_count": 19,
   "metadata": {},
   "outputs": [
    {
     "name": "stderr",
     "output_type": "stream",
     "text": [
      "C:\\Users\\16313\\Anaconda3\\lib\\site-packages\\ipykernel_launcher.py:6: FutureWarning: Method .as_matrix will be removed in a future version. Use .values instead.\n",
      "  \n",
      "C:\\Users\\16313\\Anaconda3\\lib\\site-packages\\ipykernel_launcher.py:7: FutureWarning: Method .as_matrix will be removed in a future version. Use .values instead.\n",
      "  import sys\n",
      "C:\\Users\\16313\\Anaconda3\\lib\\site-packages\\ipykernel_launcher.py:6: FutureWarning: Method .as_matrix will be removed in a future version. Use .values instead.\n",
      "  \n",
      "C:\\Users\\16313\\Anaconda3\\lib\\site-packages\\ipykernel_launcher.py:7: FutureWarning: Method .as_matrix will be removed in a future version. Use .values instead.\n",
      "  import sys\n",
      "C:\\Users\\16313\\Anaconda3\\lib\\site-packages\\ipykernel_launcher.py:6: FutureWarning: Method .as_matrix will be removed in a future version. Use .values instead.\n",
      "  \n",
      "C:\\Users\\16313\\Anaconda3\\lib\\site-packages\\ipykernel_launcher.py:7: FutureWarning: Method .as_matrix will be removed in a future version. Use .values instead.\n",
      "  import sys\n",
      "C:\\Users\\16313\\Anaconda3\\lib\\site-packages\\ipykernel_launcher.py:6: FutureWarning: Method .as_matrix will be removed in a future version. Use .values instead.\n",
      "  \n",
      "C:\\Users\\16313\\Anaconda3\\lib\\site-packages\\ipykernel_launcher.py:7: FutureWarning: Method .as_matrix will be removed in a future version. Use .values instead.\n",
      "  import sys\n",
      "C:\\Users\\16313\\Anaconda3\\lib\\site-packages\\ipykernel_launcher.py:6: FutureWarning: Method .as_matrix will be removed in a future version. Use .values instead.\n",
      "  \n",
      "C:\\Users\\16313\\Anaconda3\\lib\\site-packages\\ipykernel_launcher.py:7: FutureWarning: Method .as_matrix will be removed in a future version. Use .values instead.\n",
      "  import sys\n",
      "C:\\Users\\16313\\Anaconda3\\lib\\site-packages\\ipykernel_launcher.py:6: FutureWarning: Method .as_matrix will be removed in a future version. Use .values instead.\n",
      "  \n",
      "C:\\Users\\16313\\Anaconda3\\lib\\site-packages\\ipykernel_launcher.py:7: FutureWarning: Method .as_matrix will be removed in a future version. Use .values instead.\n",
      "  import sys\n",
      "C:\\Users\\16313\\Anaconda3\\lib\\site-packages\\ipykernel_launcher.py:6: FutureWarning: Method .as_matrix will be removed in a future version. Use .values instead.\n",
      "  \n",
      "C:\\Users\\16313\\Anaconda3\\lib\\site-packages\\ipykernel_launcher.py:7: FutureWarning: Method .as_matrix will be removed in a future version. Use .values instead.\n",
      "  import sys\n",
      "C:\\Users\\16313\\Anaconda3\\lib\\site-packages\\ipykernel_launcher.py:6: FutureWarning: Method .as_matrix will be removed in a future version. Use .values instead.\n",
      "  \n",
      "C:\\Users\\16313\\Anaconda3\\lib\\site-packages\\ipykernel_launcher.py:7: FutureWarning: Method .as_matrix will be removed in a future version. Use .values instead.\n",
      "  import sys\n",
      "C:\\Users\\16313\\Anaconda3\\lib\\site-packages\\ipykernel_launcher.py:6: FutureWarning: Method .as_matrix will be removed in a future version. Use .values instead.\n",
      "  \n",
      "C:\\Users\\16313\\Anaconda3\\lib\\site-packages\\ipykernel_launcher.py:7: FutureWarning: Method .as_matrix will be removed in a future version. Use .values instead.\n",
      "  import sys\n",
      "C:\\Users\\16313\\Anaconda3\\lib\\site-packages\\ipykernel_launcher.py:6: FutureWarning: Method .as_matrix will be removed in a future version. Use .values instead.\n",
      "  \n",
      "C:\\Users\\16313\\Anaconda3\\lib\\site-packages\\ipykernel_launcher.py:7: FutureWarning: Method .as_matrix will be removed in a future version. Use .values instead.\n",
      "  import sys\n",
      "C:\\Users\\16313\\Anaconda3\\lib\\site-packages\\ipykernel_launcher.py:6: FutureWarning: Method .as_matrix will be removed in a future version. Use .values instead.\n",
      "  \n",
      "C:\\Users\\16313\\Anaconda3\\lib\\site-packages\\ipykernel_launcher.py:7: FutureWarning: Method .as_matrix will be removed in a future version. Use .values instead.\n",
      "  import sys\n",
      "C:\\Users\\16313\\Anaconda3\\lib\\site-packages\\ipykernel_launcher.py:6: FutureWarning: Method .as_matrix will be removed in a future version. Use .values instead.\n",
      "  \n",
      "C:\\Users\\16313\\Anaconda3\\lib\\site-packages\\ipykernel_launcher.py:7: FutureWarning: Method .as_matrix will be removed in a future version. Use .values instead.\n",
      "  import sys\n",
      "C:\\Users\\16313\\Anaconda3\\lib\\site-packages\\ipykernel_launcher.py:6: FutureWarning: Method .as_matrix will be removed in a future version. Use .values instead.\n",
      "  \n",
      "C:\\Users\\16313\\Anaconda3\\lib\\site-packages\\ipykernel_launcher.py:7: FutureWarning: Method .as_matrix will be removed in a future version. Use .values instead.\n",
      "  import sys\n",
      "C:\\Users\\16313\\Anaconda3\\lib\\site-packages\\ipykernel_launcher.py:6: FutureWarning: Method .as_matrix will be removed in a future version. Use .values instead.\n",
      "  \n",
      "C:\\Users\\16313\\Anaconda3\\lib\\site-packages\\ipykernel_launcher.py:7: FutureWarning: Method .as_matrix will be removed in a future version. Use .values instead.\n",
      "  import sys\n",
      "C:\\Users\\16313\\Anaconda3\\lib\\site-packages\\ipykernel_launcher.py:6: FutureWarning: Method .as_matrix will be removed in a future version. Use .values instead.\n",
      "  \n",
      "C:\\Users\\16313\\Anaconda3\\lib\\site-packages\\ipykernel_launcher.py:7: FutureWarning: Method .as_matrix will be removed in a future version. Use .values instead.\n",
      "  import sys\n",
      "C:\\Users\\16313\\Anaconda3\\lib\\site-packages\\ipykernel_launcher.py:6: FutureWarning: Method .as_matrix will be removed in a future version. Use .values instead.\n",
      "  \n",
      "C:\\Users\\16313\\Anaconda3\\lib\\site-packages\\ipykernel_launcher.py:7: FutureWarning: Method .as_matrix will be removed in a future version. Use .values instead.\n",
      "  import sys\n",
      "C:\\Users\\16313\\Anaconda3\\lib\\site-packages\\ipykernel_launcher.py:6: FutureWarning: Method .as_matrix will be removed in a future version. Use .values instead.\n",
      "  \n",
      "C:\\Users\\16313\\Anaconda3\\lib\\site-packages\\ipykernel_launcher.py:7: FutureWarning: Method .as_matrix will be removed in a future version. Use .values instead.\n",
      "  import sys\n",
      "C:\\Users\\16313\\Anaconda3\\lib\\site-packages\\ipykernel_launcher.py:6: FutureWarning: Method .as_matrix will be removed in a future version. Use .values instead.\n",
      "  \n",
      "C:\\Users\\16313\\Anaconda3\\lib\\site-packages\\ipykernel_launcher.py:7: FutureWarning: Method .as_matrix will be removed in a future version. Use .values instead.\n",
      "  import sys\n",
      "C:\\Users\\16313\\Anaconda3\\lib\\site-packages\\ipykernel_launcher.py:6: FutureWarning: Method .as_matrix will be removed in a future version. Use .values instead.\n",
      "  \n",
      "C:\\Users\\16313\\Anaconda3\\lib\\site-packages\\ipykernel_launcher.py:7: FutureWarning: Method .as_matrix will be removed in a future version. Use .values instead.\n",
      "  import sys\n",
      "C:\\Users\\16313\\Anaconda3\\lib\\site-packages\\ipykernel_launcher.py:6: FutureWarning: Method .as_matrix will be removed in a future version. Use .values instead.\n",
      "  \n",
      "C:\\Users\\16313\\Anaconda3\\lib\\site-packages\\ipykernel_launcher.py:7: FutureWarning: Method .as_matrix will be removed in a future version. Use .values instead.\n",
      "  import sys\n"
     ]
    }
   ],
   "source": [
    "threshold_list = [0.05,0.1,0.15,0.2,0.25,0.3,0.35,0.4,0.45,0.5,0.55,0.6,0.65,.7,.75,.8,.85,.9,.95,.99]\n",
    "\n",
    "for i in threshold_list:\n",
    "    y_test_pred = pred_proba_df.applymap(lambda x: 1 if x>i else 0)\n",
    "    \n",
    "    first_part = y_test.as_matrix().reshape(y_test.as_matrix().size,1);\n",
    "    second_part = y_test_pred.iloc[:,1].as_matrix().reshape(y_test_pred.iloc[:,1].as_matrix().size,1);\n",
    "    \n",
    "    prec_score = precision_score(first_part, second_part)\n",
    "    precision_scores.append(prec_score)\n",
    "    pred_proba_df.applymap(lambda x: 1 if x>i else 0)\n",
    "    acc_score = accuracy_score(first_part,second_part)\n",
    "    accuracy_scores.append(acc_score)\n",
    "    \n",
    "    aucroc_score = roc_auc_score(first_part,second_part)\n",
    "    auc_roc_scores.append(aucroc_score)\n",
    "    \n",
    "    avg_prec_score = average_precision_score(first_part,second_part)\n",
    "    avg_precision_scores.append(avg_prec_score)\n",
    "    \n",
    "    rec_score = recall_score(first_part,second_part)\n",
    "    recall_scores.append(rec_score)\n",
    "    \n",
    "    true_pos = confusion_matrix(first_part,second_part)[1][1]\n",
    "    true_poses.append(true_pos)\n",
    "    \n",
    "    false_pos = confusion_matrix(first_part,second_part)[0][1]\n",
    "    false_poses.append(false_pos)"
   ]
  },
  {
   "cell_type": "code",
   "execution_count": 20,
   "metadata": {},
   "outputs": [],
   "source": [
    "all_scores = {'thresholds': threshold_list, \n",
    "        'precision_scores': precision_scores, \n",
    "        'accuracy_scores': accuracy_scores,\n",
    "       'auc_roc_scores': auc_roc_scores,\n",
    "       'avg_precision_scores': avg_precision_scores,\n",
    "             'recall_scores': recall_scores,\n",
    "             'true_positives': true_poses,\n",
    "             'false_positives': false_poses}"
   ]
  },
  {
   "cell_type": "code",
   "execution_count": 21,
   "metadata": {},
   "outputs": [],
   "source": [
    "all_scores = pd.DataFrame(all_scores)"
   ]
  },
  {
   "cell_type": "code",
   "execution_count": 50,
   "metadata": {},
   "outputs": [
    {
     "data": {
      "text/plain": [
       "<matplotlib.legend.Legend at 0x1eb65325390>"
      ]
     },
     "execution_count": 50,
     "metadata": {},
     "output_type": "execute_result"
    },
    {
     "data": {
      "image/png": "[encoded data removed]",
      "text/plain": [
       "<Figure size 432x288 with 1 Axes>"
      ]
     },
     "metadata": {
      "needs_background": "light"
     },
     "output_type": "display_data"
    }
   ],
   "source": [
    "plt.plot('thresholds', 'precision_scores', data=all_scores, marker='', markerfacecolor='blue', markersize=10, color='red', linewidth=5)\n",
    "plt.plot('thresholds', 'accuracy_scores', data=all_scores)\n",
    "plt.plot('thresholds', 'auc_roc_scores', data=all_scores)\n",
    "plt.plot('thresholds', 'avg_precision_scores', data=all_scores)\n",
    "plt.plot('thresholds', 'recall_scores', data=all_scores,color='purple')\n",
    "plt.title('Relationship Between Logistic Regression Scores and Confidence Threshold')\n",
    "plt.xlabel('Confidence Threshold')\n",
    "plt.ylabel('Score')\n",
    "\n",
    "plt.legend()"
   ]
  },
  {
   "cell_type": "markdown",
   "metadata": {},
   "source": [
    "Looks like precision is increasing in a somewhat linear manner, as the confidence threshold increases. This could be especially beneficial, since our goal is to optimize for precision. It is also interesting to note that the non-precision scores (accuracy, auc_roc and recall), all converge at about .5 confidence threshold.\n",
    "\n",
    "Let's see how the confusion matrix/classification report changes if the threshold for positive class prediction was adjusted to > .85%."
   ]
  },
  {
   "cell_type": "code",
   "execution_count": 23,
   "metadata": {
    "scrolled": true
   },
   "outputs": [
    {
     "name": "stdout",
     "output_type": "stream",
     "text": [
      "Our testing accuracy is 0.3471573484312338\n",
      "\n",
      "\n",
      "Confusion Matrix:\n",
      "\n",
      "\n",
      "[[ 5625    77]\n",
      " [13760  1733]]\n",
      "\n",
      "\n",
      "              precision    recall  f1-score   support\n",
      "\n",
      "           0       0.29      0.99      0.45      5702\n",
      "           1       0.96      0.11      0.20     15493\n",
      "\n",
      "   micro avg       0.35      0.35      0.35     21195\n",
      "   macro avg       0.62      0.55      0.32     21195\n",
      "weighted avg       0.78      0.35      0.27     21195\n",
      "\n"
     ]
    },
    {
     "name": "stderr",
     "output_type": "stream",
     "text": [
      "C:\\Users\\16313\\Anaconda3\\lib\\site-packages\\ipykernel_launcher.py:2: FutureWarning: Method .as_matrix will be removed in a future version. Use .values instead.\n",
      "  \n",
      "C:\\Users\\16313\\Anaconda3\\lib\\site-packages\\ipykernel_launcher.py:3: FutureWarning: Method .as_matrix will be removed in a future version. Use .values instead.\n",
      "  This is separate from the ipykernel package so we can avoid doing imports until\n",
      "C:\\Users\\16313\\Anaconda3\\lib\\site-packages\\ipykernel_launcher.py:8: FutureWarning: Method .as_matrix will be removed in a future version. Use .values instead.\n",
      "  \n",
      "C:\\Users\\16313\\Anaconda3\\lib\\site-packages\\ipykernel_launcher.py:9: FutureWarning: Method .as_matrix will be removed in a future version. Use .values instead.\n",
      "  if __name__ == '__main__':\n",
      "C:\\Users\\16313\\Anaconda3\\lib\\site-packages\\ipykernel_launcher.py:11: FutureWarning: Method .as_matrix will be removed in a future version. Use .values instead.\n",
      "  # This is added back by InteractiveShellApp.init_path()\n",
      "C:\\Users\\16313\\Anaconda3\\lib\\site-packages\\ipykernel_launcher.py:12: FutureWarning: Method .as_matrix will be removed in a future version. Use .values instead.\n",
      "  if sys.path[0] == '':\n"
     ]
    }
   ],
   "source": [
    "y_test_pred = pred_proba_df.applymap(lambda x: 1 if x>.85 else 0)\n",
    "test_accuracy = accuracy_score(y_test.as_matrix().reshape(y_test.as_matrix().size,1),\n",
    "                                           y_test_pred.iloc[:,1].as_matrix().reshape(y_test_pred.iloc[:,1].as_matrix().size,1))\n",
    "print('Our testing accuracy is {}'.format(test_accuracy))\n",
    "print('\\n')\n",
    "print('Confusion Matrix:')\n",
    "print('\\n')\n",
    "print(confusion_matrix(y_test.as_matrix().reshape(y_test.as_matrix().size,1),\n",
    "                           y_test_pred.iloc[:,1].as_matrix().reshape(y_test_pred.iloc[:,1].as_matrix().size,1)))\n",
    "print('\\n')\n",
    "print(classification_report(y_test.as_matrix().reshape(y_test.as_matrix().size,1),\n",
    "                           y_test_pred.iloc[:,1].as_matrix().reshape(y_test_pred.iloc[:,1].as_matrix().size,1)))"
   ]
  },
  {
   "cell_type": "markdown",
   "metadata": {},
   "source": [
    "Adjusting the threshold had a great increase on Precision! It is now .96, with a 1733-to-77 difference in True Positives vs False Positives"
   ]
  },
  {
   "cell_type": "code",
   "execution_count": 17,
   "metadata": {},
   "outputs": [],
   "source": [
    "pred_probas = pd.DataFrame(lr_probas)\n",
    "y_test_labels = pd.DataFrame(y_test).reset_index()\n",
    "preds_merged = pd.concat([pred_probas,y_test_labels],axis=1).set_index('index')\n",
    "preds_with_orig = pd.concat([preds_merged,raw],axis=1)\n",
    "preds_with_orig = preds_with_orig.dropna()\n",
    "preds_with_orig.reset_index(inplace=True)\n",
    "preds_with_orig.columns = ['label','LR_0','LR_1','target','target2','text']"
   ]
  },
  {
   "cell_type": "markdown",
   "metadata": {},
   "source": [
    "Let's look at some posts that the LR classifier incorrectly classified."
   ]
  },
  {
   "cell_type": "code",
   "execution_count": 28,
   "metadata": {},
   "outputs": [
    {
     "data": {
      "text/html": [
       "<div>\n",
       "<style scoped>\n",
       "    .dataframe tbody tr th:only-of-type {\n",
       "        vertical-align: middle;\n",
       "    }\n",
       "\n",
       "    .dataframe tbody tr th {\n",
       "        vertical-align: top;\n",
       "    }\n",
       "\n",
       "    .dataframe thead th {\n",
       "        text-align: right;\n",
       "    }\n",
       "</style>\n",
       "<table border=\"1\" class=\"dataframe\">\n",
       "  <thead>\n",
       "    <tr style=\"text-align: right;\">\n",
       "      <th></th>\n",
       "      <th>label</th>\n",
       "      <th>LR_0</th>\n",
       "      <th>LR_1</th>\n",
       "      <th>target</th>\n",
       "      <th>target2</th>\n",
       "      <th>text</th>\n",
       "    </tr>\n",
       "  </thead>\n",
       "  <tbody>\n",
       "    <tr>\n",
       "      <th>10114</th>\n",
       "      <td>40526</td>\n",
       "      <td>0.953879</td>\n",
       "      <td>0.046121</td>\n",
       "      <td>1.0</td>\n",
       "      <td>1</td>\n",
       "      <td>banjo solo</td>\n",
       "    </tr>\n",
       "    <tr>\n",
       "      <th>14022</th>\n",
       "      <td>56228</td>\n",
       "      <td>0.950262</td>\n",
       "      <td>0.049738</td>\n",
       "      <td>1.0</td>\n",
       "      <td>1</td>\n",
       "      <td>And best Christmas movie time</td>\n",
       "    </tr>\n",
       "    <tr>\n",
       "      <th>11341</th>\n",
       "      <td>45462</td>\n",
       "      <td>0.939187</td>\n",
       "      <td>0.060813</td>\n",
       "      <td>1.0</td>\n",
       "      <td>1</td>\n",
       "      <td>If liked Ocean love Ocean</td>\n",
       "    </tr>\n",
       "    <tr>\n",
       "      <th>12997</th>\n",
       "      <td>51996</td>\n",
       "      <td>0.938555</td>\n",
       "      <td>0.061445</td>\n",
       "      <td>1.0</td>\n",
       "      <td>1</td>\n",
       "      <td>All Halloween I ever seen first two Rob Zombie...</td>\n",
       "    </tr>\n",
       "    <tr>\n",
       "      <th>14274</th>\n",
       "      <td>57161</td>\n",
       "      <td>0.936698</td>\n",
       "      <td>0.063302</td>\n",
       "      <td>1.0</td>\n",
       "      <td>1</td>\n",
       "      <td>Love movie huge part childhood I watch every C...</td>\n",
       "    </tr>\n",
       "    <tr>\n",
       "      <th>3802</th>\n",
       "      <td>14821</td>\n",
       "      <td>0.936338</td>\n",
       "      <td>0.063662</td>\n",
       "      <td>1.0</td>\n",
       "      <td>1</td>\n",
       "      <td>Every Star Wars movie excluding episode After ...</td>\n",
       "    </tr>\n",
       "    <tr>\n",
       "      <th>10938</th>\n",
       "      <td>43923</td>\n",
       "      <td>0.931570</td>\n",
       "      <td>0.068430</td>\n",
       "      <td>1.0</td>\n",
       "      <td>1</td>\n",
       "      <td>'A Christmas Story'</td>\n",
       "    </tr>\n",
       "    <tr>\n",
       "      <th>13462</th>\n",
       "      <td>53918</td>\n",
       "      <td>0.920428</td>\n",
       "      <td>0.079572</td>\n",
       "      <td>1.0</td>\n",
       "      <td>1</td>\n",
       "      <td>Seinfeld season nothing happening one profitab...</td>\n",
       "    </tr>\n",
       "    <tr>\n",
       "      <th>9633</th>\n",
       "      <td>38468</td>\n",
       "      <td>0.919766</td>\n",
       "      <td>0.080234</td>\n",
       "      <td>1.0</td>\n",
       "      <td>1</td>\n",
       "      <td>I heard bad thing sequel I even watched I tryi...</td>\n",
       "    </tr>\n",
       "    <tr>\n",
       "      <th>9295</th>\n",
       "      <td>37025</td>\n",
       "      <td>0.916336</td>\n",
       "      <td>0.083664</td>\n",
       "      <td>1.0</td>\n",
       "      <td>1</td>\n",
       "      <td>Goal also pretty awful movie And sequel even w...</td>\n",
       "    </tr>\n",
       "    <tr>\n",
       "      <th>227</th>\n",
       "      <td>993</td>\n",
       "      <td>0.915733</td>\n",
       "      <td>0.084267</td>\n",
       "      <td>1.0</td>\n",
       "      <td>1</td>\n",
       "      <td>Watch Avengers Infinity War Online For Free St...</td>\n",
       "    </tr>\n",
       "    <tr>\n",
       "      <th>50</th>\n",
       "      <td>209</td>\n",
       "      <td>0.910286</td>\n",
       "      <td>0.089714</td>\n",
       "      <td>1.0</td>\n",
       "      <td>1</td>\n",
       "      <td>I hope stupid question LOL So film based true ...</td>\n",
       "    </tr>\n",
       "    <tr>\n",
       "      <th>7250</th>\n",
       "      <td>28536</td>\n",
       "      <td>0.909725</td>\n",
       "      <td>0.090275</td>\n",
       "      <td>1.0</td>\n",
       "      <td>1</td>\n",
       "      <td>Couldn agree That aspect isolationism totally ...</td>\n",
       "    </tr>\n",
       "    <tr>\n",
       "      <th>11665</th>\n",
       "      <td>46824</td>\n",
       "      <td>0.909530</td>\n",
       "      <td>0.090470</td>\n",
       "      <td>1.0</td>\n",
       "      <td>1</td>\n",
       "      <td>My Left Foot Always director actor movie Danie...</td>\n",
       "    </tr>\n",
       "    <tr>\n",
       "      <th>8226</th>\n",
       "      <td>32547</td>\n",
       "      <td>0.907288</td>\n",
       "      <td>0.092712</td>\n",
       "      <td>1.0</td>\n",
       "      <td>1</td>\n",
       "      <td>The dragon storyline second part season overal...</td>\n",
       "    </tr>\n",
       "    <tr>\n",
       "      <th>11939</th>\n",
       "      <td>47852</td>\n",
       "      <td>0.907065</td>\n",
       "      <td>0.092935</td>\n",
       "      <td>1.0</td>\n",
       "      <td>1</td>\n",
       "      <td>humor horror yeah idk hereditary fucking gnarl...</td>\n",
       "    </tr>\n",
       "    <tr>\n",
       "      <th>8365</th>\n",
       "      <td>33066</td>\n",
       "      <td>0.905283</td>\n",
       "      <td>0.094717</td>\n",
       "      <td>1.0</td>\n",
       "      <td>1</td>\n",
       "      <td>So hilarious The dark humour good movie</td>\n",
       "    </tr>\n",
       "    <tr>\n",
       "      <th>14877</th>\n",
       "      <td>59569</td>\n",
       "      <td>0.904920</td>\n",
       "      <td>0.095080</td>\n",
       "      <td>1.0</td>\n",
       "      <td>1</td>\n",
       "      <td>Ryan Gosling Jake gyllenhaal Michael Fassbende...</td>\n",
       "    </tr>\n",
       "    <tr>\n",
       "      <th>12068</th>\n",
       "      <td>48308</td>\n",
       "      <td>0.904436</td>\n",
       "      <td>0.095564</td>\n",
       "      <td>1.0</td>\n",
       "      <td>1</td>\n",
       "      <td>Are really many remake classic majority woman ...</td>\n",
       "    </tr>\n",
       "    <tr>\n",
       "      <th>14922</th>\n",
       "      <td>59778</td>\n",
       "      <td>0.904298</td>\n",
       "      <td>0.095702</td>\n",
       "      <td>1.0</td>\n",
       "      <td>1</td>\n",
       "      <td>Spielberg overrated schmalzmaker Here strong o...</td>\n",
       "    </tr>\n",
       "  </tbody>\n",
       "</table>\n",
       "</div>"
      ],
      "text/plain": [
       "       label      LR_0      LR_1  target  target2  \\\n",
       "10114  40526  0.953879  0.046121     1.0        1   \n",
       "14022  56228  0.950262  0.049738     1.0        1   \n",
       "11341  45462  0.939187  0.060813     1.0        1   \n",
       "12997  51996  0.938555  0.061445     1.0        1   \n",
       "14274  57161  0.936698  0.063302     1.0        1   \n",
       "3802   14821  0.936338  0.063662     1.0        1   \n",
       "10938  43923  0.931570  0.068430     1.0        1   \n",
       "13462  53918  0.920428  0.079572     1.0        1   \n",
       "9633   38468  0.919766  0.080234     1.0        1   \n",
       "9295   37025  0.916336  0.083664     1.0        1   \n",
       "227      993  0.915733  0.084267     1.0        1   \n",
       "50       209  0.910286  0.089714     1.0        1   \n",
       "7250   28536  0.909725  0.090275     1.0        1   \n",
       "11665  46824  0.909530  0.090470     1.0        1   \n",
       "8226   32547  0.907288  0.092712     1.0        1   \n",
       "11939  47852  0.907065  0.092935     1.0        1   \n",
       "8365   33066  0.905283  0.094717     1.0        1   \n",
       "14877  59569  0.904920  0.095080     1.0        1   \n",
       "12068  48308  0.904436  0.095564     1.0        1   \n",
       "14922  59778  0.904298  0.095702     1.0        1   \n",
       "\n",
       "                                                    text  \n",
       "10114                                         banjo solo  \n",
       "14022                      And best Christmas movie time  \n",
       "11341                          If liked Ocean love Ocean  \n",
       "12997  All Halloween I ever seen first two Rob Zombie...  \n",
       "14274  Love movie huge part childhood I watch every C...  \n",
       "3802   Every Star Wars movie excluding episode After ...  \n",
       "10938                                'A Christmas Story'  \n",
       "13462  Seinfeld season nothing happening one profitab...  \n",
       "9633   I heard bad thing sequel I even watched I tryi...  \n",
       "9295   Goal also pretty awful movie And sequel even w...  \n",
       "227    Watch Avengers Infinity War Online For Free St...  \n",
       "50     I hope stupid question LOL So film based true ...  \n",
       "7250   Couldn agree That aspect isolationism totally ...  \n",
       "11665  My Left Foot Always director actor movie Danie...  \n",
       "8226   The dragon storyline second part season overal...  \n",
       "11939  humor horror yeah idk hereditary fucking gnarl...  \n",
       "8365             So hilarious The dark humour good movie  \n",
       "14877  Ryan Gosling Jake gyllenhaal Michael Fassbende...  \n",
       "12068  Are really many remake classic majority woman ...  \n",
       "14922  Spielberg overrated schmalzmaker Here strong o...  "
      ]
     },
     "execution_count": 28,
     "metadata": {},
     "output_type": "execute_result"
    }
   ],
   "source": [
    "preds_with_orig.loc[(preds_with_orig['target'] == 1) & (preds_with_orig['LR_1'] < .5)].sort_values('LR_1').head(20)"
   ]
  },
  {
   "cell_type": "code",
   "execution_count": 29,
   "metadata": {},
   "outputs": [
    {
     "data": {
      "text/plain": [
       "'Spielberg overrated schmalzmaker Here strong opinion movie'"
      ]
     },
     "execution_count": 29,
     "metadata": {},
     "output_type": "execute_result"
    }
   ],
   "source": [
    "preds_with_orig.loc[14922]['text']"
   ]
  },
  {
   "cell_type": "markdown",
   "metadata": {},
   "source": [
    "Based on the top words discovered in EDA, a lot of these incorrect predictions make sense. \"Christmas,\" \"Speilberg\" and \"Sequel\" in particular were listed as Top Words among flicks, which is likely why the posts above containing those words were incorrectly classified.\n",
    "\n",
    "Let's save out these predictions, so that they can be compared with the predictions made by the other models, at a later stage."
   ]
  },
  {
   "cell_type": "code",
   "execution_count": 26,
   "metadata": {},
   "outputs": [],
   "source": [
    "preds_with_orig[['label','LR_0','LR_1','target']].to_csv('./jsons/LR_probas.csv',index=False)"
   ]
  },
  {
   "cell_type": "code",
   "execution_count": 52,
   "metadata": {},
   "outputs": [],
   "source": [
    "orig_labels = preds_with_orig[['label', 'text']]"
   ]
  },
  {
   "cell_type": "code",
   "execution_count": 27,
   "metadata": {},
   "outputs": [],
   "source": [
    "all_scores.to_csv('./jsons/LR_scores.csv')"
   ]
  },
  {
   "cell_type": "code",
   "execution_count": 54,
   "metadata": {},
   "outputs": [],
   "source": [
    "orig_labels.to_csv('./jsons/text_labels.csv',index=False)"
   ]
  },
  {
   "cell_type": "markdown",
   "metadata": {},
   "source": [
    "### Top Coefficients"
   ]
  },
  {
   "cell_type": "code",
   "execution_count": 28,
   "metadata": {},
   "outputs": [
    {
     "data": {
      "text/plain": [
       "array([[ 0.40956267,  0.40800871, -0.35339364, ...,  2.30155237,\n",
       "         0.79373083,  0.33626959]])"
      ]
     },
     "execution_count": 28,
     "metadata": {},
     "output_type": "execute_result"
    }
   ],
   "source": [
    "lr.coef_"
   ]
  },
  {
   "cell_type": "code",
   "execution_count": 38,
   "metadata": {},
   "outputs": [],
   "source": [
    "coeffs = pd.DataFrame(lr.coef_).T"
   ]
  },
  {
   "cell_type": "code",
   "execution_count": 42,
   "metadata": {},
   "outputs": [],
   "source": [
    "coeffs['word'] = pd.Series(X.columns).T"
   ]
  },
  {
   "cell_type": "code",
   "execution_count": 49,
   "metadata": {},
   "outputs": [
    {
     "data": {
      "text/html": [
       "<div>\n",
       "<style scoped>\n",
       "    .dataframe tbody tr th:only-of-type {\n",
       "        vertical-align: middle;\n",
       "    }\n",
       "\n",
       "    .dataframe tbody tr th {\n",
       "        vertical-align: top;\n",
       "    }\n",
       "\n",
       "    .dataframe thead th {\n",
       "        text-align: right;\n",
       "    }\n",
       "</style>\n",
       "<table border=\"1\" class=\"dataframe\">\n",
       "  <thead>\n",
       "    <tr style=\"text-align: right;\">\n",
       "      <th></th>\n",
       "      <th>0</th>\n",
       "      <th>word</th>\n",
       "    </tr>\n",
       "  </thead>\n",
       "  <tbody>\n",
       "    <tr>\n",
       "      <th>53</th>\n",
       "      <td>2.670224</td>\n",
       "      <td>accessible</td>\n",
       "    </tr>\n",
       "    <tr>\n",
       "      <th>4417</th>\n",
       "      <td>2.663794</td>\n",
       "      <td>godard</td>\n",
       "    </tr>\n",
       "    <tr>\n",
       "      <th>4200</th>\n",
       "      <td>2.629622</td>\n",
       "      <td>french</td>\n",
       "    </tr>\n",
       "    <tr>\n",
       "      <th>5235</th>\n",
       "      <td>2.616986</td>\n",
       "      <td>individual</td>\n",
       "    </tr>\n",
       "    <tr>\n",
       "      <th>5386</th>\n",
       "      <td>2.552216</td>\n",
       "      <td>interpretation</td>\n",
       "    </tr>\n",
       "    <tr>\n",
       "      <th>7674</th>\n",
       "      <td>2.447564</td>\n",
       "      <td>ozu</td>\n",
       "    </tr>\n",
       "    <tr>\n",
       "      <th>5214</th>\n",
       "      <td>2.364931</td>\n",
       "      <td>independent</td>\n",
       "    </tr>\n",
       "    <tr>\n",
       "      <th>6656</th>\n",
       "      <td>2.329795</td>\n",
       "      <td>meaning</td>\n",
       "    </tr>\n",
       "    <tr>\n",
       "      <th>11997</th>\n",
       "      <td>2.301552</td>\n",
       "      <td>zoom</td>\n",
       "    </tr>\n",
       "    <tr>\n",
       "      <th>2632</th>\n",
       "      <td>2.291052</td>\n",
       "      <td>director</td>\n",
       "    </tr>\n",
       "  </tbody>\n",
       "</table>\n",
       "</div>"
      ],
      "text/plain": [
       "              0            word\n",
       "53     2.670224      accessible\n",
       "4417   2.663794          godard\n",
       "4200   2.629622          french\n",
       "5235   2.616986      individual\n",
       "5386   2.552216  interpretation\n",
       "7674   2.447564             ozu\n",
       "5214   2.364931     independent\n",
       "6656   2.329795         meaning\n",
       "11997  2.301552            zoom\n",
       "2632   2.291052        director"
      ]
     },
     "execution_count": 49,
     "metadata": {},
     "output_type": "execute_result"
    }
   ],
   "source": [
    "coeffs.sort_values(0,ascending=False).head(10)"
   ]
  },
  {
   "cell_type": "markdown",
   "metadata": {},
   "source": [
    "These coefficients make sense in the context of our assumptions about 'TrueFilm' users; \"Godard\", \"french\", \"interpretation\" and many others definitely seem like words that would be used by serious \"film\" fans, rather than more casual users. Indeed, the worst \"accessible\" is also often used to designate whether a movie likely to be enjoyed by a casual film-goer."
   ]
  },
  {
   "cell_type": "code",
   "execution_count": 48,
   "metadata": {},
   "outputs": [
    {
     "data": {
      "text/html": [
       "<div>\n",
       "<style scoped>\n",
       "    .dataframe tbody tr th:only-of-type {\n",
       "        vertical-align: middle;\n",
       "    }\n",
       "\n",
       "    .dataframe tbody tr th {\n",
       "        vertical-align: top;\n",
       "    }\n",
       "\n",
       "    .dataframe thead th {\n",
       "        text-align: right;\n",
       "    }\n",
       "</style>\n",
       "<table border=\"1\" class=\"dataframe\">\n",
       "  <thead>\n",
       "    <tr style=\"text-align: right;\">\n",
       "      <th></th>\n",
       "      <th>0</th>\n",
       "      <th>word</th>\n",
       "    </tr>\n",
       "  </thead>\n",
       "  <tbody>\n",
       "    <tr>\n",
       "      <th>10081</th>\n",
       "      <td>-2.019856</td>\n",
       "      <td>stereo</td>\n",
       "    </tr>\n",
       "    <tr>\n",
       "      <th>5362</th>\n",
       "      <td>-2.035750</td>\n",
       "      <td>interesting character</td>\n",
       "    </tr>\n",
       "    <tr>\n",
       "      <th>2621</th>\n",
       "      <td>-2.040002</td>\n",
       "      <td>dir</td>\n",
       "    </tr>\n",
       "    <tr>\n",
       "      <th>1277</th>\n",
       "      <td>-2.119989</td>\n",
       "      <td>cagney</td>\n",
       "    </tr>\n",
       "    <tr>\n",
       "      <th>4928</th>\n",
       "      <td>-2.123350</td>\n",
       "      <td>hologram</td>\n",
       "    </tr>\n",
       "    <tr>\n",
       "      <th>1371</th>\n",
       "      <td>-2.124737</td>\n",
       "      <td>cassius</td>\n",
       "    </tr>\n",
       "    <tr>\n",
       "      <th>7490</th>\n",
       "      <td>-2.153105</td>\n",
       "      <td>ocean</td>\n",
       "    </tr>\n",
       "    <tr>\n",
       "      <th>1324</th>\n",
       "      <td>-2.171426</td>\n",
       "      <td>captain</td>\n",
       "    </tr>\n",
       "    <tr>\n",
       "      <th>4161</th>\n",
       "      <td>-2.181587</td>\n",
       "      <td>fox</td>\n",
       "    </tr>\n",
       "    <tr>\n",
       "      <th>1606</th>\n",
       "      <td>-2.205196</td>\n",
       "      <td>christmas</td>\n",
       "    </tr>\n",
       "    <tr>\n",
       "      <th>5925</th>\n",
       "      <td>-2.207174</td>\n",
       "      <td>leo</td>\n",
       "    </tr>\n",
       "    <tr>\n",
       "      <th>1628</th>\n",
       "      <td>-2.296057</td>\n",
       "      <td>cinemasins</td>\n",
       "    </tr>\n",
       "    <tr>\n",
       "      <th>1127</th>\n",
       "      <td>-2.309487</td>\n",
       "      <td>branagh</td>\n",
       "    </tr>\n",
       "    <tr>\n",
       "      <th>87</th>\n",
       "      <td>-2.353758</td>\n",
       "      <td>acted</td>\n",
       "    </tr>\n",
       "    <tr>\n",
       "      <th>2200</th>\n",
       "      <td>-2.395715</td>\n",
       "      <td>criticker</td>\n",
       "    </tr>\n",
       "    <tr>\n",
       "      <th>11962</th>\n",
       "      <td>-2.459279</td>\n",
       "      <td>yms</td>\n",
       "    </tr>\n",
       "    <tr>\n",
       "      <th>1906</th>\n",
       "      <td>-2.550508</td>\n",
       "      <td>compose</td>\n",
       "    </tr>\n",
       "    <tr>\n",
       "      <th>9851</th>\n",
       "      <td>-2.600051</td>\n",
       "      <td>solo</td>\n",
       "    </tr>\n",
       "    <tr>\n",
       "      <th>1735</th>\n",
       "      <td>-2.624296</td>\n",
       "      <td>cmv</td>\n",
       "    </tr>\n",
       "    <tr>\n",
       "      <th>1464</th>\n",
       "      <td>-2.631784</td>\n",
       "      <td>change view</td>\n",
       "    </tr>\n",
       "  </tbody>\n",
       "</table>\n",
       "</div>"
      ],
      "text/plain": [
       "              0                   word\n",
       "10081 -2.019856                 stereo\n",
       "5362  -2.035750  interesting character\n",
       "2621  -2.040002                    dir\n",
       "1277  -2.119989                 cagney\n",
       "4928  -2.123350               hologram\n",
       "1371  -2.124737                cassius\n",
       "7490  -2.153105                  ocean\n",
       "1324  -2.171426                captain\n",
       "4161  -2.181587                    fox\n",
       "1606  -2.205196              christmas\n",
       "5925  -2.207174                    leo\n",
       "1628  -2.296057             cinemasins\n",
       "1127  -2.309487                branagh\n",
       "87    -2.353758                  acted\n",
       "2200  -2.395715              criticker\n",
       "11962 -2.459279                    yms\n",
       "1906  -2.550508                compose\n",
       "9851  -2.600051                   solo\n",
       "1735  -2.624296                    cmv\n",
       "1464  -2.631784            change view"
      ]
     },
     "execution_count": 48,
     "metadata": {},
     "output_type": "execute_result"
    }
   ],
   "source": [
    "coeffs.sort_values(0,ascending=False).tail(20)"
   ]
  },
  {
   "cell_type": "markdown",
   "metadata": {},
   "source": [
    "These also make intuitive sense, based on assumptions about \"flicks\" posters, vs \"TrueFilm\".\n",
    "\n",
    "It is interesting to note that \"change view\" and \"cmv\" were listed as the \"most negative\" coefficients, when it comes to classifying the positive class. These words are often found in recurring posts that only exist in 'flicks', and would probably be beneficial to remove outright, to futher tune the model.\n",
    "\n",
    "This observation is also an example of how the data science/modeling process is non-linear."
   ]
  }
 ],
 "metadata": {
  "kernelspec": {
   "display_name": "Python 3",
   "language": "python",
   "name": "python3"
  },
  "language_info": {
   "codemirror_mode": {
    "name": "ipython",
    "version": 3
   },
   "file_extension": ".py",
   "mimetype": "text/x-python",
   "name": "python",
   "nbconvert_exporter": "python",
   "pygments_lexer": "ipython3",
   "version": "3.7.0"
  }
 },
 "nbformat": 4,
 "nbformat_minor": 2
}
